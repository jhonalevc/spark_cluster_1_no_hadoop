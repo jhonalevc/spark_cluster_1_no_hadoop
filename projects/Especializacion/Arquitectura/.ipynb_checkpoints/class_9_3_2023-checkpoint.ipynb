{
 "cells": [
  {
   "cell_type": "code",
   "execution_count": 3,
   "id": "f9ddae15-f290-4ecf-aa98-4a7c03596b71",
   "metadata": {
    "tags": []
   },
   "outputs": [],
   "source": [
    "import pyspark\n",
    "\n",
    "spark = pyspark.sql.SparkSession.builder.appName(\"__1\").master(\"spark://spark-master:7077\").getOrCreate()\n",
    "sc = spark.sparkContext"
   ]
  },
  {
   "cell_type": "code",
   "execution_count": 5,
   "id": "300a44fe-58bd-4f3d-aee9-accab0787403",
   "metadata": {
    "tags": []
   },
   "outputs": [
    {
     "name": "stderr",
     "output_type": "stream",
     "text": [
      "                                                                                \r"
     ]
    },
    {
     "data": {
      "text/plain": [
       "['the', 'art', 'war', 'book', 'strategy', 'made', 'asia', 'sun', 'tzu']"
      ]
     },
     "execution_count": 5,
     "metadata": {},
     "output_type": "execute_result"
    }
   ],
   "source": [
    "file = sc.textFile(\"file.txt\")\n",
    "d = file.flatMap(lambda x: x.split(\" \") ) \\\n",
    "    .map(lambda x: x.replace(\"'\",\"\")) \\\n",
    "    .map(lambda x: x.lower()) \\\n",
    "    .map(lambda x: x.replace(\",\",\"\")) \\\n",
    "    .filter(lambda x: len(x) > 2)\n",
    "d.collect()"
   ]
  }
 ],
 "metadata": {
  "kernelspec": {
   "display_name": "Python 3 (ipykernel)",
   "language": "python",
   "name": "python3"
  },
  "language_info": {
   "codemirror_mode": {
    "name": "ipython",
    "version": 3
   },
   "file_extension": ".py",
   "mimetype": "text/x-python",
   "name": "python",
   "nbconvert_exporter": "python",
   "pygments_lexer": "ipython3",
   "version": "3.7.3"
  }
 },
 "nbformat": 4,
 "nbformat_minor": 5
}

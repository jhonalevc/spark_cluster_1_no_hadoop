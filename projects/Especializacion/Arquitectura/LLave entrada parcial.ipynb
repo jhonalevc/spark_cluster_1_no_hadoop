{
 "cells": [
  {
   "cell_type": "code",
   "execution_count": 64,
   "id": "98a167ea-5970-43e3-82c2-e53946871189",
   "metadata": {
    "tags": []
   },
   "outputs": [
    {
     "name": "stdout",
     "output_type": "stream",
     "text": [
      "01000001 | A | 65\n",
      "01101100 | l | 108\n",
      "01100101 | e | 101\n",
      "01101010 | j | 106\n",
      "01100001 | a | 97\n",
      "01101110 | n | 110\n",
      "01100100 | d | 100\n",
      "01110010 | r | 114\n",
      "01101111 | o | 111\n",
      "00100000 |   | 32\n",
      "01010110 | V | 86\n",
      "01100101 | e | 101\n",
      "01101100 | l | 108\n",
      "01100101 | e | 101\n",
      "01111010 | z | 122\n",
      "010000010110110001100101011010100110000101101110011001000111001001101111001000000101011001100101011011000110010101111010\n",
      "010000010110110001100101011010100110000101101110011001000111001001101111001000000101011001100101011011000110010101111010\n"
     ]
    }
   ],
   "source": [
    "name = \"Alejandro Velez\"\n",
    "\n",
    "l = \"\"\n",
    "for i in name:\n",
    "    r = format(ord(i),\"08b\")\n",
    "    print(r, \"|\" ,i ,\"|\" , ord(i))\n",
    "    l += r\n",
    "    \n",
    "print(l) \n",
    "\n",
    "print(\"\".join([format(ord(i),\"08b\") for i in name]))\n",
    "\n",
    "\n"
   ]
  },
  {
   "cell_type": "code",
   "execution_count": 71,
   "id": "8f1e9dea-f6f6-4ff2-8980-f2d018562562",
   "metadata": {
    "tags": []
   },
   "outputs": [
    {
     "name": "stdout",
     "output_type": "stream",
     "text": [
      "Alejandro Velez\n"
     ]
    }
   ],
   "source": [
    "import re\n",
    "\n",
    "d = re.findall(\"........\",l)\n",
    "ff = \"\"\n",
    "for i in d :\n",
    "    s =  chr(int(i,2)) # Convert binary into decimal, then into character  \n",
    "    ff += s\n",
    "print(ff)"
   ]
  }
 ],
 "metadata": {
  "kernelspec": {
   "display_name": "Python 3 (ipykernel)",
   "language": "python",
   "name": "python3"
  },
  "language_info": {
   "codemirror_mode": {
    "name": "ipython",
    "version": 3
   },
   "file_extension": ".py",
   "mimetype": "text/x-python",
   "name": "python",
   "nbconvert_exporter": "python",
   "pygments_lexer": "ipython3",
   "version": "3.7.3"
  }
 },
 "nbformat": 4,
 "nbformat_minor": 5
}

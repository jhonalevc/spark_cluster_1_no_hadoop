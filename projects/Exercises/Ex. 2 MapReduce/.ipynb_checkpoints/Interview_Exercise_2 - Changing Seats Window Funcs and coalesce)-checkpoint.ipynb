{
 "cells": [
  {
   "cell_type": "code",
   "execution_count": 6,
   "id": "e4f92458-e36b-4a0f-a902-20141aa9f308",
   "metadata": {
    "tags": []
   },
   "outputs": [],
   "source": [
    "from pyspark.sql import SparkSession\n",
    "from pyspark.sql.functions import *\n",
    "from pyspark.sql.types import *\n",
    "from pyspark.sql.window import Window\n",
    "spark = SparkSession.builder.appName(\"Ex_swap_seats\").master(\"spark://spark-master:7077\").getOrCreate()"
   ]
  },
  {
   "cell_type": "markdown",
   "id": "ca8bc335-9caf-49c0-9514-a1c7a44d1b0c",
   "metadata": {
    "tags": []
   },
   "source": [
    "# Problem\n",
    "\n",
    "Write a solution to swap the seat id of every two consecutive students. If the number of students is odd, the id of the last student is not swapped.\n",
    "\n",
    "Return the result table ordered by id in ascending order.\n",
    "\n",
    "The result format is in the following example.\n",
    "\n",
    "Example 1:\n",
    "\n",
    "Input: \n",
    "Seat table:\n",
    "\n",
    "| id | student |\n",
    "| -- | ------- |\n",
    "| 1  | Abbot   |\n",
    "| 2  | Doris   |\n",
    "| 3  | Emerson |\n",
    "| 4  | Green   |\n",
    "| 5  | Jeames  |\n",
    "\n",
    "\n",
    "Output: \n",
    "\n",
    "| id | student |\n",
    "| -- | ------- |\n",
    "| 1  | Doris   |\n",
    "| 2  | Abbot   |\n",
    "| 3  | Green   |\n",
    "| 4  | Emerson |\n",
    "| 5  | Jeames  |\n",
    "\n",
    "Explanation: \n",
    "Note that if the number of students is odd, there is no need to change the last one's seat.\n"
   ]
  },
  {
   "cell_type": "code",
   "execution_count": 40,
   "id": "0bcc1c91-64cf-4566-ab0a-463b2f70887c",
   "metadata": {
    "tags": []
   },
   "outputs": [
    {
     "name": "stdout",
     "output_type": "stream",
     "text": [
      "+---+------+\n",
      "| id|  Name|\n",
      "+---+------+\n",
      "|  1|  Juan|\n",
      "|  2| Pedro|\n",
      "|  3| Maria|\n",
      "|  4|Ulises|\n",
      "|  5|Proust|\n",
      "+---+------+\n",
      "\n"
     ]
    },
    {
     "name": "stderr",
     "output_type": "stream",
     "text": [
      "24/03/08 16:38:45 WARN WindowExec: No Partition Defined for Window operation! Moving all data to a single partition, this can cause serious performance degradation.\n",
      "24/03/08 16:38:45 WARN WindowExec: No Partition Defined for Window operation! Moving all data to a single partition, this can cause serious performance degradation.\n",
      "24/03/08 16:38:45 WARN WindowExec: No Partition Defined for Window operation! Moving all data to a single partition, this can cause serious performance degradation.\n",
      "24/03/08 16:38:46 WARN WindowExec: No Partition Defined for Window operation! Moving all data to a single partition, this can cause serious performance degradation.\n",
      "24/03/08 16:38:46 WARN WindowExec: No Partition Defined for Window operation! Moving all data to a single partition, this can cause serious performance degradation.\n",
      "24/03/08 16:38:46 WARN WindowExec: No Partition Defined for Window operation! Moving all data to a single partition, this can cause serious performance degradation.\n",
      "24/03/08 16:38:46 WARN WindowExec: No Partition Defined for Window operation! Moving all data to a single partition, this can cause serious performance degradation.\n",
      "24/03/08 16:38:46 WARN WindowExec: No Partition Defined for Window operation! Moving all data to a single partition, this can cause serious performance degradation.\n"
     ]
    },
    {
     "name": "stdout",
     "output_type": "stream",
     "text": [
      "+---+------+---------+--------+\n",
      "| id|  Name|Prev_name|nxt_Name|\n",
      "+---+------+---------+--------+\n",
      "|  1|  Juan|     NULL|   Pedro|\n",
      "|  2| Pedro|     Juan|   Maria|\n",
      "|  3| Maria|    Pedro|  Ulises|\n",
      "|  4|Ulises|    Maria|  Proust|\n",
      "|  5|Proust|   Ulises|    NULL|\n",
      "+---+------+---------+--------+\n",
      "\n"
     ]
    },
    {
     "name": "stderr",
     "output_type": "stream",
     "text": [
      "24/03/08 16:38:46 WARN WindowExec: No Partition Defined for Window operation! Moving all data to a single partition, this can cause serious performance degradation.\n",
      "24/03/08 16:38:46 WARN WindowExec: No Partition Defined for Window operation! Moving all data to a single partition, this can cause serious performance degradation.\n",
      "24/03/08 16:38:46 WARN WindowExec: No Partition Defined for Window operation! Moving all data to a single partition, this can cause serious performance degradation.\n",
      "24/03/08 16:38:46 WARN WindowExec: No Partition Defined for Window operation! Moving all data to a single partition, this can cause serious performance degradation.\n",
      "24/03/08 16:38:46 WARN WindowExec: No Partition Defined for Window operation! Moving all data to a single partition, this can cause serious performance degradation.\n"
     ]
    },
    {
     "name": "stdout",
     "output_type": "stream",
     "text": [
      "+---+------+---------+--------+-----------+\n",
      "| id|  Name|Prev_name|nxt_Name|New_seating|\n",
      "+---+------+---------+--------+-----------+\n",
      "|  1|  Juan|     NULL|   Pedro|      Pedro|\n",
      "|  2| Pedro|     Juan|   Maria|       Juan|\n",
      "|  3| Maria|    Pedro|  Ulises|     Ulises|\n",
      "|  4|Ulises|    Maria|  Proust|      Maria|\n",
      "|  5|Proust|   Ulises|    NULL|     Proust|\n",
      "+---+------+---------+--------+-----------+\n",
      "\n",
      "+---+------+\n",
      "| id|  Name|\n",
      "+---+------+\n",
      "|  1| Pedro|\n",
      "|  2|  Juan|\n",
      "|  3|Ulises|\n",
      "|  4| Maria|\n",
      "|  5|Proust|\n",
      "+---+------+\n",
      "\n"
     ]
    },
    {
     "name": "stderr",
     "output_type": "stream",
     "text": [
      "24/03/08 16:38:46 WARN WindowExec: No Partition Defined for Window operation! Moving all data to a single partition, this can cause serious performance degradation.\n",
      "24/03/08 16:38:46 WARN WindowExec: No Partition Defined for Window operation! Moving all data to a single partition, this can cause serious performance degradation.\n"
     ]
    }
   ],
   "source": [
    "data = [\n",
    "    (1,\"Juan\"),\n",
    "    (2,\"Pedro\"),\n",
    "    (3,\"Maria\"),\n",
    "    (4,\"Ulises\"),\n",
    "    (5,\"Proust\")\n",
    "]\n",
    "df = spark.createDataFrame(data,(\"id\",\"Name\"))\n",
    "df.createOrReplaceTempView(\"data\")\n",
    "df.show()\n",
    "#Fist Ge Get the Next and Previous Names \n",
    "df = df.withColumn(\"Prev_name\",lag(\"Name\").over(Window.orderBy(\"id\")))\n",
    "df = df.withColumn(\"nxt_Name\",lead(\"Name\").over(Window.orderBy(\"id\")))\n",
    "df.show()\n",
    "#The purpose of this code is to create a new column \"New_seating\" in the DataFrame df. For each row:\n",
    "#If the \"id\" value is odd, the \"New_seating\" column will contain the value from the \"nxt_Name\" column if it's not null, otherwise, it will contain the value from the \"Name\" column.\n",
    "#If the \"id\" value is even, the \"New_seating\" column will contain the value from the \"Prev_name\" column if it's not null, otherwise, it will contain the value from the \"Name\" column.\n",
    "df = df.withColumn(\n",
    "    \"New_seating\",\n",
    "    when(df[\"id\"] %2 == 1 , coalesce(df[\"nxt_Name\"], df[\"Name\"] )) # si el id ex impar traer el valor de nxt_Name si no es nulo \n",
    "    .when(df[\"id\"] %2 == 0 , coalesce(df[\"Prev_name\"] ,df[\"Name\"]))) # si el id ex par traer el valor de Prev_name si no es nulo \n",
    "df.show()\n",
    "# Finally Remove the undesired Columns\n",
    "df = df.select([\"id\",\"New_seating\"]).withColumnRenamed(\"New_seating\",\"Name\")\n",
    "df.show()"
   ]
  },
  {
   "cell_type": "code",
   "execution_count": 52,
   "id": "c6062a70-65d5-4de6-90c8-13fc3d44d91b",
   "metadata": {
    "tags": []
   },
   "outputs": [
    {
     "name": "stdout",
     "output_type": "stream",
     "text": [
      "+---+------+\n",
      "| id|  Name|\n",
      "+---+------+\n",
      "|  1|  Juan|\n",
      "|  2| Pedro|\n",
      "|  3| Maria|\n",
      "|  4|Ulises|\n",
      "|  5|Proust|\n",
      "+---+------+\n",
      "\n"
     ]
    },
    {
     "name": "stderr",
     "output_type": "stream",
     "text": [
      "24/03/08 16:47:15 WARN WindowExec: No Partition Defined for Window operation! Moving all data to a single partition, this can cause serious performance degradation.\n",
      "24/03/08 16:47:15 WARN WindowExec: No Partition Defined for Window operation! Moving all data to a single partition, this can cause serious performance degradation.\n",
      "24/03/08 16:47:15 WARN WindowExec: No Partition Defined for Window operation! Moving all data to a single partition, this can cause serious performance degradation.\n",
      "24/03/08 16:47:15 WARN WindowExec: No Partition Defined for Window operation! Moving all data to a single partition, this can cause serious performance degradation.\n",
      "24/03/08 16:47:15 WARN WindowExec: No Partition Defined for Window operation! Moving all data to a single partition, this can cause serious performance degradation.\n"
     ]
    },
    {
     "name": "stdout",
     "output_type": "stream",
     "text": [
      "+---+------+\n",
      "| id|  new_|\n",
      "+---+------+\n",
      "|  1| Pedro|\n",
      "|  2|  Juan|\n",
      "|  3|Ulises|\n",
      "|  4| Maria|\n",
      "|  5|Proust|\n",
      "+---+------+\n",
      "\n"
     ]
    }
   ],
   "source": [
    "#SQL \n",
    "spark.sql(\"SELECT * FROM data\").show()\n",
    "spark.sql(\n",
    "    \"\"\"\n",
    "    WITH CTE1 AS (\n",
    "        SELECT id,Name, \n",
    "        lag(Name) OVER (ORDER BY id) as Prev,\n",
    "        lead(Name) OVER (ORDER BY id) as Nxt\n",
    "    FROM data\n",
    "    ) ,\n",
    "    CTE2 AS (\n",
    "        SELECT id,\n",
    "            CASE \n",
    "            WHEN id % 2 = 1 THEN coalesce(Nxt, Name)\n",
    "            WHEN id % 2 = 0 THEN COALESCE(prev , Name) \n",
    "            ELSE Name END as new_\n",
    "        FROM CTE1\n",
    "    )\n",
    "    SELECT * FROM CTE2\n",
    "    \"\"\"\n",
    ").show()\n",
    "\n",
    "# This query  assigns the value of next row to odd rows and prev row to even rows"
   ]
  }
 ],
 "metadata": {
  "kernelspec": {
   "display_name": "Python 3 (ipykernel)",
   "language": "python",
   "name": "python3"
  },
  "language_info": {
   "codemirror_mode": {
    "name": "ipython",
    "version": 3
   },
   "file_extension": ".py",
   "mimetype": "text/x-python",
   "name": "python",
   "nbconvert_exporter": "python",
   "pygments_lexer": "ipython3",
   "version": "3.7.3"
  }
 },
 "nbformat": 4,
 "nbformat_minor": 5
}

{
 "cells": [
  {
   "cell_type": "code",
   "execution_count": 1,
   "id": "e41c7191-80eb-4f85-914b-b377eb460fd8",
   "metadata": {
    "tags": []
   },
   "outputs": [
    {
     "name": "stderr",
     "output_type": "stream",
     "text": [
      "Setting default log level to \"WARN\".\n",
      "To adjust logging level use sc.setLogLevel(newLevel). For SparkR, use setLogLevel(newLevel).\n",
      "24/03/08 15:08:21 WARN NativeCodeLoader: Unable to load native-hadoop library for your platform... using builtin-java classes where applicable\n",
      "/usr/local/lib/python3.7/dist-packages/pyspark/context.py:317: FutureWarning: Python 3.7 support is deprecated in Spark 3.4.\n",
      "  warnings.warn(\"Python 3.7 support is deprecated in Spark 3.4.\", FutureWarning)\n"
     ]
    }
   ],
   "source": [
    "from pyspark.sql import SparkSession\n",
    "from pyspark.sql.functions import *\n",
    "from pyspark.sql.window import Window\n",
    "spark = SparkSession.builder.appName(\"Ex_\").master(\"spark://spark-master:7077\").getOrCreate()"
   ]
  },
  {
   "cell_type": "markdown",
   "id": "da39e59c-4d9c-44b4-8d9c-3901b27d4004",
   "metadata": {},
   "source": [
    "# Problem\n",
    "\n",
    "Here we're going to try establish winning and losing streaks. We're gonna work with a dataset that has two columns: event_date and result like this :\n",
    "\n",
    "| Event date | Result |\n",
    "| -------- | -------- |\n",
    "| 2023-03-07   | Win   |\n",
    "| 2023-03-08   | Win   |\n",
    "| 2023-03-09   | Win   |\n",
    "| 2023-03-10   | Win   |\n",
    "| 2023-03-11   | Lose   |\n",
    "| 2023-03-12   | Lose   |\n",
    "| 2023-03-13   | Lose   |\n",
    "| 2023-03-14   | Lose   |\n",
    "| 2023-03-15   | Win   |\n",
    "| 2023-03-16   | Win   |\n",
    "| 2023-03-17   | Win   |\n",
    "\n",
    "\n",
    "And the purpose is to pass to a table like this\n",
    "\n",
    "| Result | Start Date | End Date | Count |\n",
    "| -------- | -------- | -------- | -------- |\n",
    "| Win   | 2023-03-07   | 2023-03-10   | 3 |\n",
    "| Lose   | 2023-03-11   | 2023-03-14  | 3 |\n",
    "| Win   | 2023-03-15   | 2023-03-17   | 2 |\n"
   ]
  },
  {
   "cell_type": "code",
   "execution_count": 2,
   "id": "ece91104-5047-42a5-9edb-9826a80557e0",
   "metadata": {
    "tags": []
   },
   "outputs": [
    {
     "name": "stderr",
     "output_type": "stream",
     "text": [
      "                                                                                \r"
     ]
    },
    {
     "name": "stdout",
     "output_type": "stream",
     "text": [
      "+----------+------+\n",
      "|Event_date|Result|\n",
      "+----------+------+\n",
      "|2024-03-01|   Win|\n",
      "|2024-03-02|   Win|\n",
      "|2024-03-03|   Win|\n",
      "+----------+------+\n",
      "only showing top 3 rows\n",
      "\n",
      "root\n",
      " |-- Event_date: date (nullable = true)\n",
      " |-- Result: string (nullable = true)\n",
      "\n"
     ]
    },
    {
     "name": "stderr",
     "output_type": "stream",
     "text": [
      "24/03/08 15:08:49 WARN WindowExec: No Partition Defined for Window operation! Moving all data to a single partition, this can cause serious performance degradation.\n",
      "24/03/08 15:08:49 WARN WindowExec: No Partition Defined for Window operation! Moving all data to a single partition, this can cause serious performance degradation.\n",
      "24/03/08 15:08:49 WARN WindowExec: No Partition Defined for Window operation! Moving all data to a single partition, this can cause serious performance degradation.\n",
      "24/03/08 15:08:49 WARN WindowExec: No Partition Defined for Window operation! Moving all data to a single partition, this can cause serious performance degradation.\n",
      "24/03/08 15:08:54 WARN WindowExec: No Partition Defined for Window operation! Moving all data to a single partition, this can cause serious performance degradation.\n",
      "24/03/08 15:08:54 WARN WindowExec: No Partition Defined for Window operation! Moving all data to a single partition, this can cause serious performance degradation.\n",
      "24/03/08 15:08:54 WARN WindowExec: No Partition Defined for Window operation! Moving all data to a single partition, this can cause serious performance degradation.\n",
      "24/03/08 15:08:54 WARN WindowExec: No Partition Defined for Window operation! Moving all data to a single partition, this can cause serious performance degradation.\n",
      "24/03/08 15:08:56 WARN WindowExec: No Partition Defined for Window operation! Moving all data to a single partition, this can cause serious performance degradation.\n",
      "24/03/08 15:08:56 WARN WindowExec: No Partition Defined for Window operation! Moving all data to a single partition, this can cause serious performance degradation.\n",
      "[Stage 6:>                                                          (0 + 1) / 1]\r"
     ]
    },
    {
     "name": "stdout",
     "output_type": "stream",
     "text": [
      "+------+------------+----------+-----------+\n",
      "|Result|Initial_date|  End_date|Streak_Days|\n",
      "+------+------------+----------+-----------+\n",
      "|   Win|  2024-03-01|2024-03-03|          3|\n",
      "|  Lose|  2024-03-04|2024-03-04|          1|\n",
      "|   Win|  2024-03-05|2024-03-06|          2|\n",
      "|  Lose|  2024-03-07|2024-03-12|          6|\n",
      "|   Win|  2024-03-13|2024-03-18|          6|\n",
      "|  Lose|  2024-03-19|2024-03-20|          2|\n",
      "+------+------------+----------+-----------+\n",
      "\n"
     ]
    },
    {
     "name": "stderr",
     "output_type": "stream",
     "text": [
      "                                                                                \r"
     ]
    }
   ],
   "source": [
    "\n",
    "# Create The data \n",
    "data = [\n",
    "    (\"2024-03-01\", \"Win\"), (\"2024-03-02\" , \"Win\"),  (\"2024-03-03\", \"Win\"), (\"2024-03-04\" , \"Lose\"),\n",
    "    (\"2024-03-05\", \"Win\"), (\"2024-03-06\" , \"Win\"),  (\"2024-03-07\", \"Lose\"),(\"2024-03-08\", \"Lose\"),\n",
    "    (\"2024-03-09\", \"Lose\"),(\"2024-03-10\", \"Lose\"),  (\"2024-03-11\", \"Lose\"),(\"2024-03-12\", \"Lose\"),\n",
    "    (\"2024-03-13\", \"Win\"), (\"2024-03-14\", \"Win\"),   (\"2024-03-15\", \"Win\"), (\"2024-03-16\", \"Win\"),\n",
    "    (\"2024-03-17\", \"Win\"), (\"2024-03-18\", \"Win\"),   (\"2024-03-19\", \"Lose\"),(\"2024-03-20\", \"Lose\")\n",
    "]\n",
    "df = spark.createDataFrame(data,[\"Event_date\",\"Result\"])\n",
    "df = df.withColumn(\"Event_date\",to_date(col(\"Event_date\")))\n",
    "df.show(3)\n",
    "df.printSchema()\n",
    "\n",
    "# ////////////////////////////////////////////////////////////////////////////////////////////////////////////////\n",
    "\n",
    "\n",
    "# The first step is to find the row in which it changes the status \n",
    "# We're gonna use the window Function Lag\n",
    "window_spec = Window.orderBy(\"Event_date\")\n",
    "lag_table = df.withColumn(\"Prev_status\", lag(col(\"Result\")).over(window_spec) )\n",
    "\n",
    "def compare(x,y):\n",
    "    if x == y or y is None :\n",
    "        return 0\n",
    "    else:\n",
    "        return 1\n",
    "compare_udf = udf(compare)\n",
    "lag_table = lag_table.withColumn(\n",
    "    \"Event_Change\",\n",
    "    compare_udf(\n",
    "        col(\"Result\"),\n",
    "        col(\"Prev_status\")\n",
    "    ) \n",
    ").select(\"Event_date\",\"Result\",\"Event_Change\")\n",
    "\n",
    "# ////////////////////////////////////////////////////////////////////////////////////////////////////////////////\n",
    "\n",
    "# The next Step is to create a Running Sum of teh Event Change so we can group together and calculate the Streaks\n",
    "group_table = lag_table.withColumn(\"Group\", sum(col(\"Event_Change\")).over(window_spec))\n",
    "\n",
    "# ////////////////////////////////////////////////////////////////////////////////////////////////////////////////\n",
    "\n",
    "# Now that the Group is created . We're gonna Group the the results and the streaks Together and we're gonna aggreaget by the first and the last Value\n",
    "group_table_ = group_table.groupBy(\"Group\",\"Result\") \\\n",
    "    .agg(\n",
    "        min(\"Event_date\").alias(\"Initial_date\"),\n",
    "        max(\"Event_date\").alias(\"End_date\")\n",
    ")\n",
    "group_table_final = group_table_.withColumn(\n",
    "    \"Streak_Days\",\n",
    "    datediff(col(\"End_date\") ,col(\"Initial_date\")) + 1).select(\"Result\",\"Initial_date\",\"End_date\",\"Streak_Days\")\n",
    "group_table_final.show()"
   ]
  },
  {
   "cell_type": "markdown",
   "id": "cc44a078-eaa4-435e-923f-b756e7e9e032",
   "metadata": {
    "tags": []
   },
   "source": [
    "<hr>"
   ]
  },
  {
   "cell_type": "code",
   "execution_count": 11,
   "id": "7611152a-b373-42dc-aecd-04ba4af751cf",
   "metadata": {
    "tags": []
   },
   "outputs": [
    {
     "name": "stderr",
     "output_type": "stream",
     "text": [
      "24/03/08 15:21:06 WARN WindowExec: No Partition Defined for Window operation! Moving all data to a single partition, this can cause serious performance degradation.\n",
      "24/03/08 15:21:06 WARN WindowExec: No Partition Defined for Window operation! Moving all data to a single partition, this can cause serious performance degradation.\n",
      "24/03/08 15:21:06 WARN WindowExec: No Partition Defined for Window operation! Moving all data to a single partition, this can cause serious performance degradation.\n",
      "24/03/08 15:21:06 WARN WindowExec: No Partition Defined for Window operation! Moving all data to a single partition, this can cause serious performance degradation.\n",
      "24/03/08 15:21:06 WARN WindowExec: No Partition Defined for Window operation! Moving all data to a single partition, this can cause serious performance degradation.\n",
      "24/03/08 15:21:06 WARN WindowExec: No Partition Defined for Window operation! Moving all data to a single partition, this can cause serious performance degradation.\n",
      "24/03/08 15:21:06 WARN WindowExec: No Partition Defined for Window operation! Moving all data to a single partition, this can cause serious performance degradation.\n",
      "24/03/08 15:21:06 WARN WindowExec: No Partition Defined for Window operation! Moving all data to a single partition, this can cause serious performance degradation.\n",
      "[Stage 15:>                                                         (0 + 1) / 1]\r"
     ]
    },
    {
     "name": "stdout",
     "output_type": "stream",
     "text": [
      "+------+----------+----------+----------------+\n",
      "|Result|   Initial|       End|Duration_in_days|\n",
      "+------+----------+----------+----------------+\n",
      "|   Win|2024-03-01|2024-03-03|               3|\n",
      "|  Lose|2024-03-04|2024-03-04|               1|\n",
      "|   Win|2024-03-05|2024-03-06|               2|\n",
      "|  Lose|2024-03-07|2024-03-12|               6|\n",
      "|   Win|2024-03-13|2024-03-18|               6|\n",
      "|  Lose|2024-03-19|2024-03-20|               2|\n",
      "+------+----------+----------+----------------+\n",
      "\n"
     ]
    },
    {
     "name": "stderr",
     "output_type": "stream",
     "text": [
      "                                                                                \r"
     ]
    }
   ],
   "source": [
    "#Let's do the same using only SQL\n",
    "df.createOrReplaceTempView(\"events\")\n",
    "sql_result = spark.sql(\n",
    "    \"\"\"\n",
    "    with CTE1 as (\n",
    "        SELECT\n",
    "            Event_date,\n",
    "            Result,\n",
    "            CASE WHEN Result != LAG(Result) OVER(ORDER BY Event_date) THEN 1 ELSE 0 END AS prev\n",
    "        FROM\n",
    "            EVENTS\n",
    "    )\n",
    "    ,\n",
    "    CTE2 as (\n",
    "        SELECT Event_date,Result, SUM(prev) OVER (ORDER BY Event_date) AS GROUP\n",
    "        FROM CTE1\n",
    "    )\n",
    "    SELECT\n",
    "        Result,\n",
    "        MIN(Event_date) as Initial,\n",
    "        MAX(Event_date) as End,\n",
    "        count(*) as Duration_in_days\n",
    "    FROM CTE2\n",
    "    GROUP BY\n",
    "        GROUP, Result\n",
    "    \"\"\"\n",
    ")\n",
    "sql_result.show()"
   ]
  }
 ],
 "metadata": {
  "kernelspec": {
   "display_name": "Python 3 (ipykernel)",
   "language": "python",
   "name": "python3"
  },
  "language_info": {
   "codemirror_mode": {
    "name": "ipython",
    "version": 3
   },
   "file_extension": ".py",
   "mimetype": "text/x-python",
   "name": "python",
   "nbconvert_exporter": "python",
   "pygments_lexer": "ipython3",
   "version": "3.7.3"
  }
 },
 "nbformat": 4,
 "nbformat_minor": 5
}

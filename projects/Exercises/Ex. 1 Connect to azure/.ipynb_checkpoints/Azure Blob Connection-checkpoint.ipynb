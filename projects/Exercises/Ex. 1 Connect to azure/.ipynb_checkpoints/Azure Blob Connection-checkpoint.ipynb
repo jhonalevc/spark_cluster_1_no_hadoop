{
 "cells": [
  {
   "cell_type": "markdown",
   "id": "fdea6e62-4bfe-4ce0-9914-9158663e2c64",
   "metadata": {},
   "source": [
    "# How to read/Write Data from Blob Storage\n",
    "\n",
    "Since the jars required to create a connection to azure blob storage are not included with the spark instalation, they need to be installed separately\n",
    "in order to do so the following commands need to be ran\n",
    " - !wget https://repo1.maven.org/maven2/com/microsoft/azure/azure-storage/8.6.6/azure-storage-8.6.6.jar -O /opt/spark/jars/azure-storage-8.6.6.jar\n",
    " - !wget https://repo1.maven.org/maven2/com/azure/azure-storage-blob/12.10.0/azure-storage-blob-12.10.0.jar -O /opt/spark/jars/azure-storage-blob-12.10.0.jar\n",
    " - !wget https://repo1.maven.org/maven2/org/apache/hadoop/hadoop-azure/3.3.4/hadoop-azure-3.3.4.jar -O /opt/spark/jars/hadoop-azure-3.3.4.jar\n",
    " - !wget https://repo1.maven.org/maven2/org/eclipse/jetty/jetty-util/9.4.45.v20220203/jetty-util-9.4.45.v20220203.jar -O /opt/spark/jars/jetty-util-9.4.45.jar \n",
    " - !wget https://repo1.maven.org/maven2/org/eclipse/jetty/jetty-util-ajax/9.4.45.v20220203/jetty-util-ajax-9.4.45.v20220203.jar -O /opt/spark/jars/jetty-util-ajax-9.4.45.jar\n",
    "  - !wget https://repo1.maven.org/maven2/org/eclipse/jetty/jetty-server/9.4.45.v20220203/jetty-server-9.4.45.v20220203.jar -O /opt/spark/jars/jetty-server-9.4.45.jar\n",
    "  \n",
    "These Jars need to be installed in this folder : /opt/spark/jars/jetty-server-9.4.45.jar\n",
    "pip install pandas==1.2.0\n",
    "This is taking place because of the spark installation (spark-3.5.1-bin-hadoop3.tgz) - -  unable to load native-hadoop library for your platform... using builtin-java classes where applicable"
   ]
  },
  {
   "cell_type": "code",
   "execution_count": 1,
   "id": "e4e32797-1daa-455d-9969-e596bc19846e",
   "metadata": {
    "tags": []
   },
   "outputs": [],
   "source": [
    "#!pip install pandas==1.2.0\n",
    "#!pip install seaborn"
   ]
  },
  {
   "cell_type": "code",
   "execution_count": 2,
   "id": "76f5c5be-1783-4446-a21d-f67a34702eed",
   "metadata": {
    "tags": []
   },
   "outputs": [],
   "source": [
    "from pyspark.sql import SparkSession\n",
    "from pyspark import SparkContext\n",
    "from pyspark.sql.window import Window\n",
    "from pyspark.sql.types import *\n",
    "from pyspark.sql.functions import *\n",
    "import pandas as pd\n",
    "import datetime\n",
    "import matplotlib.pyplot as plt\n",
    "import seaborn as sns\n",
    "pd.set_option('display.max_columns', 500)"
   ]
  },
  {
   "cell_type": "code",
   "execution_count": 3,
   "id": "c8ce79aa-c83c-4457-bc64-498969c6f56c",
   "metadata": {
    "tags": []
   },
   "outputs": [
    {
     "name": "stderr",
     "output_type": "stream",
     "text": [
      "Setting default log level to \"WARN\".\n",
      "To adjust logging level use sc.setLogLevel(newLevel). For SparkR, use setLogLevel(newLevel).\n",
      "24/03/06 17:07:49 WARN NativeCodeLoader: Unable to load native-hadoop library for your platform... using builtin-java classes where applicable\n",
      "/usr/local/lib/python3.7/dist-packages/pyspark/context.py:317: FutureWarning: Python 3.7 support is deprecated in Spark 3.4.\n",
      "  warnings.warn(\"Python 3.7 support is deprecated in Spark 3.4.\", FutureWarning)\n"
     ]
    }
   ],
   "source": [
    "# Create a SparkSession\n",
    "sc = SparkContext(\"local[*]\") \n",
    "spark = SparkSession.builder \\\n",
    "    .appName(\"AzureBlobStorageExample\") \\\n",
    "    .master(\"spark://spark-master:7077\") \\\n",
    "    .getOrCreate()\n",
    "# Define the storage account name and container name\n",
    "storage_account_name = \"projectsstoragealejo\"\n",
    "container_name = \"projects-spark\"\n",
    "access_key = \"Ptoy4is6+VXkh91yufbxyHJPNS9nx8QIJ8zQrNKsVA8oDklZDxfqn4jiFmMFhEefB+HssdBcGd1Z+AStQVobgQ==\"\n",
    "# Define the Azure Blob Storage URL\n",
    "azure_blob_url = f\"wasbs://{container_name}@{storage_account_name}.blob.core.windows.net/\"\n",
    "# Provide your Azure Storage account access key\n",
    "spark.conf.set(f\"fs.azure.account.key.{storage_account_name}.blob.core.windows.net\", access_key)"
   ]
  },
  {
   "cell_type": "markdown",
   "id": "ef5f90d6-d0ca-4187-b21a-8a10aafa4a6d",
   "metadata": {
    "tags": []
   },
   "source": [
    "num_rows = 1000\n",
    "df = spark.range(num_rows) \\\n",
    "    .withColumn(\"Temperature\", (rand() * 50 + 50)) \\\n",
    "    .withColumn(\"Humidity\", (rand() * 50 + 50)) \\\n",
    "    .withColumn(\"Pressure\", (rand() * 100 + 900)) \\\n",
    "    .withColumn(\"Wind_Speed\", (rand() * 20)) \\\n",
    "    .withColumn(\"Cloud_Cover\", (rand() * 100)) \\\n",
    "    .withColumn(\"Weight\", (expr(\"CASE WHEN Temperature > 70 THEN 5 \" +\n",
    "                                 \"WHEN Humidity < 30 THEN 4 \" +\n",
    "                                 \"WHEN Pressure < 950 THEN 3 \" +\n",
    "                                 \"WHEN Wind_Speed > 15 THEN 2 \" +\n",
    "                                 \"ELSE 1 END\").cast(IntegerType()))) \\\n",
    "    .withColumn(\"Target\", (expr(\"CASE WHEN Cloud_Cover < 20 THEN 'Sunny' \" +\n",
    "                                \"WHEN Cloud_Cover < 70 THEN 'Partly Cloudy' \" +\n",
    "                                \"ELSE 'Cloudy' END\")))\n",
    "\n",
    "def generate_timestamp(index):\n",
    "    start_timestamp = datetime.datetime(2024, 3, 5, 0, 0, 0)\n",
    "    return start_timestamp - datetime.timedelta(minutes=index*5)\n",
    "\n",
    "spark.udf.register(\"generate_timestamp\", generate_timestamp, TimestampType())\n",
    "df = df.withColumn(\"timestamp\", expr(\"generate_timestamp(id)\"))\n",
    "#df.write.parquet(azure_blob_url+\"weather_data.parquet\")"
   ]
  },
  {
   "cell_type": "code",
   "execution_count": 4,
   "id": "dbb5347e-d7be-4dac-b501-fb6119b325e0",
   "metadata": {
    "tags": []
   },
   "outputs": [
    {
     "name": "stderr",
     "output_type": "stream",
     "text": [
      "24/03/06 17:07:53 WARN MetricsConfig: Cannot locate configuration: tried hadoop-metrics2-azure-file-system.properties,hadoop-metrics2.properties\n",
      "                                                                                \r"
     ]
    }
   ],
   "source": [
    "df = spark.read.parquet(azure_blob_url+\"weather_data.parquet\")"
   ]
  },
  {
   "cell_type": "code",
   "execution_count": 5,
   "id": "12a172ba-b919-4488-b3ac-d93a152e4aa1",
   "metadata": {
    "tags": []
   },
   "outputs": [
    {
     "name": "stdout",
     "output_type": "stream",
     "text": [
      "root\n",
      " |-- id: long (nullable = true)\n",
      " |-- Temperature: double (nullable = true)\n",
      " |-- Humidity: double (nullable = true)\n",
      " |-- Pressure: double (nullable = true)\n",
      " |-- Wind_Speed: double (nullable = true)\n",
      " |-- Cloud_Cover: double (nullable = true)\n",
      " |-- Weight: integer (nullable = true)\n",
      " |-- Target: string (nullable = true)\n",
      " |-- timestamp: timestamp (nullable = true)\n",
      "\n"
     ]
    }
   ],
   "source": [
    "df.printSchema()"
   ]
  },
  {
   "cell_type": "code",
   "execution_count": 10,
   "id": "4ba3b03d-f0c8-4258-b8bf-1022fe47c2ac",
   "metadata": {
    "tags": []
   },
   "outputs": [
    {
     "name": "stderr",
     "output_type": "stream",
     "text": [
      "[Stage 72:>                                                         (0 + 1) / 1]\r"
     ]
    },
    {
     "name": "stdout",
     "output_type": "stream",
     "text": [
      "+----------+-----+--------------------+--------------------+------------------+\n",
      "|month-year|Count|                Mean|              median|              stdv|\n",
      "+----------+-----+--------------------+--------------------+------------------+\n",
      "|  1 - 1932| 8927|-0.00312531440586...|-0.16036530985478237|20.765159241732853|\n",
      "|  1 - 1935| 8927|-7.86328047961421...| 0.05665781345197729|20.308898407257967|\n",
      "|  1 - 1941| 8927|-2.41729032605634E-4|-0.21069198666921807| 20.34480418507529|\n",
      "|  1 - 1943| 8927|-6.47410545946722...| -0.0856309924582348|20.567410205191596|\n",
      "|  1 - 1946| 8927|-7.08856704837659...|-0.06425818486457047|20.586573143297898|\n",
      "|  1 - 1947| 8927|0.003004245249300...|  0.1071515529546474| 20.32270662681237|\n",
      "|  1 - 1951| 8927|0.003196328619621259|-0.04351190934082...|20.129707387216783|\n",
      "|  1 - 1952| 8927|0.001799180287793...| 0.16423293730521493|20.501253869548727|\n",
      "|  1 - 1953| 8927|0.002545844630901264| -0.1920630702216215| 20.42601101461704|\n",
      "|  1 - 1954| 8927|-0.00321229728884...|-0.07626145083239066|20.444330301412883|\n",
      "+----------+-----+--------------------+--------------------+------------------+\n",
      "only showing top 10 rows\n",
      "\n"
     ]
    },
    {
     "name": "stderr",
     "output_type": "stream",
     "text": [
      "                                                                                \r"
     ]
    }
   ],
   "source": [
    "# Add Month, Year , Day to table\n",
    "\n",
    "df = df.withColumn(\"Year\",year(col(\"timestamp\"))) \\\n",
    "    .withColumn(\"Month\",month(col(\"timestamp\"))) \\\n",
    "    .withColumn(\"Day\",dayofmonth(col(\"timestamp\"))) \\\n",
    "    .withColumn(\"month-year\", concat(month(col(\"timestamp\")), lit(\" - \"), year(col(\"timestamp\"))))\n",
    "#df.show(3)\n",
    "\n",
    "# Get Previous Temperature for every month in every yerar and Compare\n",
    "window_spec_1 = Window.partitionBy(\"month-year\")\n",
    "df_temp_w = df.withColumn(\"Prev_Temperature\", lag(\"Temperature\").over(window_spec_1)) \\\n",
    "    .withColumn(\"Temp_Diff\",col(\"Temperature\") - col(\"Prev_Temperature\")) \\\n",
    "    .select(\"Temperature\",\"Prev_Temperature\",\"Temp_Diff\",\"timestamp\",\"month-year\")\n",
    "#df_temp_w.show()\n",
    "_chk_1 = df_temp_w.filter(\n",
    "    col(\"month-year\") == \"11 - 1995\").toPandas()\n",
    "\n",
    "#Change in Temperature Aggregation\n",
    "agg_temp = df_temp_w.groupBy(\n",
    "        \"month-year\").agg(\n",
    "            count(\"Temp_Diff\").alias(\"Count\"),\n",
    "            avg(\"Temp_Diff\").alias(\"Mean\"),\n",
    "            median(\"Temp_Diff\").alias(\"median\"),\n",
    "            stddev(\"Temp_Diff\").alias(\"stdv\")\n",
    "    )\n",
    "\n",
    "\n",
    "agg_temp_pdf = agg_temp.withColumn(\"mth\",split(col(\"month-year\"),\"-\").getItem(0)) \\\n",
    "    .withColumn(\"yr\",split(col(\"month-year\"),\"-\").getItem(1)) \\\n",
    "    .toPandas()\n",
    "#agg_temp.write.csv(azure_blob_url+\"agg_temp_data.csv\",header=True)\n",
    "agg_temp.show(10)\n"
   ]
  },
  {
   "cell_type": "code",
   "execution_count": 69,
   "id": "4c1617ec-b163-48a2-9955-b66821faac5b",
   "metadata": {
    "tags": []
   },
   "outputs": [
    {
     "data": {
      "image/png": "[encoded data removed]",
      "text/plain": [
       "<Figure size 900x300 with 1 Axes>"
      ]
     },
     "metadata": {},
     "output_type": "display_data"
    }
   ],
   "source": [
    "agg_temp_pdf[\"mth\"] = pd.to_numeric(agg_temp_pdf[\"mth\"])\n",
    "agg_temp_pdf[\"yr\"] = pd.to_numeric(agg_temp_pdf[\"yr\"])\n",
    "agg_temp_pdf = agg_temp_pdf.sort_values([\"yr\",\"mth\"], ascending = [True,True])\n",
    "agg_temp_pdf[\"dt\"] = agg_temp_pdf[\"mth\"].astype(str) + \"-\" +agg_temp_pdf[\"yr\"].astype(str)\n",
    "agg_temp_pdf[\"dt\"] = agg_temp_pdf[\"dt\"].apply(lambda x: datetime.datetime(month=int(x.split(\"-\")[0]), \n",
    "                                                                         year=int(x.split(\"-\")[1]), \n",
    "                                                                         day=1))\n",
    "#agg_temp_pdf[\"dt\"] = agg_temp_pdf[\"dt\"].apply(lambda x: [int(x.split(\"-\")[0]), int(x.split(\"-\")[1]), 1])\n",
    "sns.set_theme(rc={'figure.figsize':(9,3)})\n",
    "bar = sns.lineplot(\n",
    "    data = agg_temp_pdf[\n",
    "        (agg_temp_pdf[\"dt\"] < datetime.datetime(1950,1,1)) &\n",
    "        (agg_temp_pdf[\"dt\"] >= datetime.datetime(1940,1,1))\n",
    "    ],\n",
    "    x = \"dt\",\n",
    "    y = \"Mean\"\n",
    ")\n",
    "plt.xticks(rotation = 70)\n",
    "plt.savefig(\"line_plot.png\")\n",
    "plt.clf()\n",
    "box = sns.boxplot(\n",
    "    data = agg_temp_pdf[\n",
    "        (agg_temp_pdf[\"dt\"] < datetime.datetime(1950,1,1)) &\n",
    "        (agg_temp_pdf[\"dt\"] >= datetime.datetime(1940,1,1))\n",
    "    ],\n",
    "    y = \"Mean\",\n",
    "    x = \"yr\"\n",
    "\n",
    ")\n",
    "plt.savefig(\"boxplot.png\")\n"
   ]
  }
 ],
 "metadata": {
  "kernelspec": {
   "display_name": "Python 3 (ipykernel)",
   "language": "python",
   "name": "python3"
  },
  "language_info": {
   "codemirror_mode": {
    "name": "ipython",
    "version": 3
   },
   "file_extension": ".py",
   "mimetype": "text/x-python",
   "name": "python",
   "nbconvert_exporter": "python",
   "pygments_lexer": "ipython3",
   "version": "3.7.3"
  }
 },
 "nbformat": 4,
 "nbformat_minor": 5
}

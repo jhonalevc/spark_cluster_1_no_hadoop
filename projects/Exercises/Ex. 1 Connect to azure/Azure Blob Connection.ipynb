{
 "cells": [
  {
   "cell_type": "markdown",
   "id": "fdea6e62-4bfe-4ce0-9914-9158663e2c64",
   "metadata": {},
   "source": [
    "# How to read/Write Data from Blob Storage\n",
    "\n",
    "Since the jars required to create a connection to azure blob storage are not included with the spark instalation, they need to be installed separately\n",
    "in order to do so the following commands need to be ran\n",
    " - !wget https://repo1.maven.org/maven2/com/microsoft/azure/azure-storage/8.6.6/azure-storage-8.6.6.jar -O /opt/spark/jars/azure-storage-8.6.6.jar\n",
    " - !wget https://repo1.maven.org/maven2/com/azure/azure-storage-blob/12.10.0/azure-storage-blob-12.10.0.jar -O /opt/spark/jars/azure-storage-blob-12.10.0.jar\n",
    " - !wget https://repo1.maven.org/maven2/org/apache/hadoop/hadoop-azure/3.3.4/hadoop-azure-3.3.4.jar -O /opt/spark/jars/hadoop-azure-3.3.4.jar\n",
    " - !wget https://repo1.maven.org/maven2/org/eclipse/jetty/jetty-util/9.4.45.v20220203/jetty-util-9.4.45.v20220203.jar -O /opt/spark/jars/jetty-util-9.4.45.jar \n",
    " - !wget https://repo1.maven.org/maven2/org/eclipse/jetty/jetty-util-ajax/9.4.45.v20220203/jetty-util-ajax-9.4.45.v20220203.jar -O /opt/spark/jars/jetty-util-ajax-9.4.45.jar\n",
    "  - !wget https://repo1.maven.org/maven2/org/eclipse/jetty/jetty-server/9.4.45.v20220203/jetty-server-9.4.45.v20220203.jar -O /opt/spark/jars/jetty-server-9.4.45.jar\n",
    "  \n",
    "These Jars need to be installed in this folder : /opt/spark/jars/jetty-server-9.4.45.jar\n",
    "pip install pandas==1.2.0\n",
    "This is taking place because of the spark installation (spark-3.5.1-bin-hadoop3.tgz) - -  unable to load native-hadoop library for your platform... using builtin-java classes where applicable"
   ]
  },
  {
   "cell_type": "code",
   "execution_count": 1,
   "id": "e4e32797-1daa-455d-9969-e596bc19846e",
   "metadata": {
    "tags": []
   },
   "outputs": [],
   "source": [
    "#!pip install pandas==1.2.0\n",
    "#!pip install seaborn"
   ]
  },
  {
   "cell_type": "code",
   "execution_count": 2,
   "id": "76f5c5be-1783-4446-a21d-f67a34702eed",
   "metadata": {
    "tags": []
   },
   "outputs": [],
   "source": [
    "from pyspark.sql import SparkSession\n",
    "from pyspark import SparkContext\n",
    "from pyspark.sql.window import Window\n",
    "from pyspark.sql.types import *\n",
    "from pyspark.sql.functions import *\n",
    "import pandas as pd\n",
    "import datetime\n",
    "import matplotlib.pyplot as plt\n",
    "import seaborn as sns\n",
    "pd.set_option('display.max_columns', 500)\n",
    "n_1 = datetime.datetime.now()"
   ]
  },
  {
   "cell_type": "code",
   "execution_count": 3,
   "id": "c8ce79aa-c83c-4457-bc64-498969c6f56c",
   "metadata": {
    "tags": []
   },
   "outputs": [
    {
     "name": "stderr",
     "output_type": "stream",
     "text": [
      "Setting default log level to \"WARN\".\n",
      "To adjust logging level use sc.setLogLevel(newLevel). For SparkR, use setLogLevel(newLevel).\n",
      "24/03/06 19:54:10 WARN NativeCodeLoader: Unable to load native-hadoop library for your platform... using builtin-java classes where applicable\n",
      "/usr/local/lib/python3.7/dist-packages/pyspark/context.py:317: FutureWarning: Python 3.7 support is deprecated in Spark 3.4.\n",
      "  warnings.warn(\"Python 3.7 support is deprecated in Spark 3.4.\", FutureWarning)\n"
     ]
    }
   ],
   "source": [
    "# Create a SparkSession\n",
    "spark = SparkSession.builder \\\n",
    "    .appName(\"test_\") \\\n",
    "    .master(\"spark://42c600268bb1:7077\") \\\n",
    "    .getOrCreate()\n",
    "# Define the storage account name and container name\n",
    "storage_account_name = \"projectsstoragealejo\"\n",
    "container_name = \"projects-spark\"\n",
    "access_key = \"Ptoy4is6+VXkh91yufbxyHJPNS9nx8QIJ8zQrNKsVA8oDklZDxfqn4jiFmMFhEefB+HssdBcGd1Z+AStQVobgQ==\"\n",
    "# Define the Azure Blob Storage URL\n",
    "azure_blob_url = f\"wasbs://{container_name}@{storage_account_name}.blob.core.windows.net/\"\n",
    "# Provide your Azure Storage account access key\n",
    "spark.conf.set(f\"fs.azure.account.key.{storage_account_name}.blob.core.windows.net\", access_key)"
   ]
  },
  {
   "cell_type": "markdown",
   "id": "ef5f90d6-d0ca-4187-b21a-8a10aafa4a6d",
   "metadata": {
    "tags": []
   },
   "source": [
    "num_rows = 1000\n",
    "df = spark.range(num_rows) \\\n",
    "    .withColumn(\"Temperature\", (rand() * 50 + 50)) \\\n",
    "    .withColumn(\"Humidity\", (rand() * 50 + 50)) \\\n",
    "    .withColumn(\"Pressure\", (rand() * 100 + 900)) \\\n",
    "    .withColumn(\"Wind_Speed\", (rand() * 20)) \\\n",
    "    .withColumn(\"Cloud_Cover\", (rand() * 100)) \\\n",
    "    .withColumn(\"Weight\", (expr(\"CASE WHEN Temperature > 70 THEN 5 \" +\n",
    "                                 \"WHEN Humidity < 30 THEN 4 \" +\n",
    "                                 \"WHEN Pressure < 950 THEN 3 \" +\n",
    "                                 \"WHEN Wind_Speed > 15 THEN 2 \" +\n",
    "                                 \"ELSE 1 END\").cast(IntegerType()))) \\\n",
    "    .withColumn(\"Target\", (expr(\"CASE WHEN Cloud_Cover < 20 THEN 'Sunny' \" +\n",
    "                                \"WHEN Cloud_Cover < 70 THEN 'Partly Cloudy' \" +\n",
    "                                \"ELSE 'Cloudy' END\")))\n",
    "\n",
    "def generate_timestamp(index):\n",
    "    start_timestamp = datetime.datetime(2024, 3, 5, 0, 0, 0)\n",
    "    return start_timestamp - datetime.timedelta(minutes=index*5)\n",
    "\n",
    "spark.udf.register(\"generate_timestamp\", generate_timestamp, TimestampType())\n",
    "df = df.withColumn(\"timestamp\", expr(\"generate_timestamp(id)\"))\n",
    "#df.write.parquet(azure_blob_url+\"weather_data.parquet\")"
   ]
  },
  {
   "cell_type": "code",
   "execution_count": 4,
   "id": "dbb5347e-d7be-4dac-b501-fb6119b325e0",
   "metadata": {
    "tags": []
   },
   "outputs": [
    {
     "name": "stderr",
     "output_type": "stream",
     "text": [
      "24/03/06 19:54:25 WARN MetricsConfig: Cannot locate configuration: tried hadoop-metrics2-azure-file-system.properties,hadoop-metrics2.properties\n",
      "                                                                                \r"
     ]
    }
   ],
   "source": [
    "df = spark.read.parquet(azure_blob_url+\"weather_data.parquet\")"
   ]
  },
  {
   "cell_type": "code",
   "execution_count": 5,
   "id": "12a172ba-b919-4488-b3ac-d93a152e4aa1",
   "metadata": {
    "tags": []
   },
   "outputs": [
    {
     "name": "stdout",
     "output_type": "stream",
     "text": [
      "root\n",
      " |-- id: long (nullable = true)\n",
      " |-- Temperature: double (nullable = true)\n",
      " |-- Humidity: double (nullable = true)\n",
      " |-- Pressure: double (nullable = true)\n",
      " |-- Wind_Speed: double (nullable = true)\n",
      " |-- Cloud_Cover: double (nullable = true)\n",
      " |-- Weight: integer (nullable = true)\n",
      " |-- Target: string (nullable = true)\n",
      " |-- timestamp: timestamp (nullable = true)\n",
      "\n"
     ]
    }
   ],
   "source": [
    "df.printSchema()"
   ]
  },
  {
   "cell_type": "code",
   "execution_count": 6,
   "id": "4ba3b03d-f0c8-4258-b8bf-1022fe47c2ac",
   "metadata": {
    "tags": []
   },
   "outputs": [
    {
     "name": "stderr",
     "output_type": "stream",
     "text": [
      "24/03/06 19:57:13 ERROR TaskSchedulerImpl: Lost executor 2 on 172.20.0.7: Command exited with code 137\n",
      "24/03/06 19:57:14 ERROR TransportRequestHandler: Error sending result RpcResponse[requestId=9186862992881712753,body=NioManagedBuffer[buf=java.nio.HeapByteBuffer[pos=0 lim=81 cap=156]]] to /172.20.0.7:41380; closing connection\n",
      "io.netty.channel.StacklessClosedChannelException\n",
      "\tat io.netty.channel.AbstractChannel$AbstractUnsafe.write(Object, ChannelPromise)(Unknown Source)\n",
      "24/03/06 19:57:14 WARN TaskSetManager: Lost task 1.0 in stage 6.0 (TID 11) (172.20.0.7 executor 2): ExecutorLostFailure (executor 2 exited caused by one of the running tasks) Reason: Command exited with code 137\n",
      "24/03/06 19:57:49 WARN TaskSetManager: Lost task 1.1 in stage 6.0 (TID 14) (172.20.0.7 executor 4): FetchFailed(null, shuffleId=1, mapIndex=-1, mapId=-1, reduceId=53, message=\n",
      "org.apache.spark.shuffle.MetadataFetchFailedException: Missing an output location for shuffle 1 partition 53\n",
      "\tat org.apache.spark.MapOutputTracker$.validateStatus(MapOutputTracker.scala:1739)\n",
      "\tat org.apache.spark.MapOutputTracker$.$anonfun$convertMapStatuses$11(MapOutputTracker.scala:1686)\n",
      "\tat org.apache.spark.MapOutputTracker$.$anonfun$convertMapStatuses$11$adapted(MapOutputTracker.scala:1685)\n",
      "\tat scala.collection.Iterator.foreach(Iterator.scala:943)\n",
      "\tat scala.collection.Iterator.foreach$(Iterator.scala:943)\n",
      "\tat scala.collection.AbstractIterator.foreach(Iterator.scala:1431)\n",
      "\tat org.apache.spark.MapOutputTracker$.convertMapStatuses(MapOutputTracker.scala:1685)\n",
      "\tat org.apache.spark.MapOutputTrackerWorker.getMapSizesByExecutorIdImpl(MapOutputTracker.scala:1327)\n",
      "\tat org.apache.spark.MapOutputTrackerWorker.getMapSizesByExecutorId(MapOutputTracker.scala:1289)\n",
      "\tat org.apache.spark.shuffle.sort.SortShuffleManager.getReader(SortShuffleManager.scala:140)\n",
      "\tat org.apache.spark.shuffle.ShuffleManager.getReader(ShuffleManager.scala:63)\n",
      "\tat org.apache.spark.shuffle.ShuffleManager.getReader$(ShuffleManager.scala:57)\n",
      "\tat org.apache.spark.shuffle.sort.SortShuffleManager.getReader(SortShuffleManager.scala:73)\n",
      "\tat org.apache.spark.sql.execution.ShuffledRowRDD.compute(ShuffledRowRDD.scala:200)\n",
      "\tat org.apache.spark.rdd.RDD.computeOrReadCheckpoint(RDD.scala:367)\n",
      "\tat org.apache.spark.rdd.RDD.iterator(RDD.scala:331)\n",
      "\tat org.apache.spark.rdd.MapPartitionsRDD.compute(MapPartitionsRDD.scala:52)\n",
      "\tat org.apache.spark.rdd.RDD.computeOrReadCheckpoint(RDD.scala:367)\n",
      "\tat org.apache.spark.rdd.RDD.iterator(RDD.scala:331)\n",
      "\tat org.apache.spark.rdd.MapPartitionsRDD.compute(MapPartitionsRDD.scala:52)\n",
      "\tat org.apache.spark.rdd.RDD.computeOrReadCheckpoint(RDD.scala:367)\n",
      "\tat org.apache.spark.rdd.RDD.iterator(RDD.scala:331)\n",
      "\tat org.apache.spark.rdd.MapPartitionsRDD.compute(MapPartitionsRDD.scala:52)\n",
      "\tat org.apache.spark.rdd.RDD.computeOrReadCheckpoint(RDD.scala:367)\n",
      "\tat org.apache.spark.rdd.RDD.iterator(RDD.scala:331)\n",
      "\tat org.apache.spark.rdd.MapPartitionsRDD.compute(MapPartitionsRDD.scala:52)\n",
      "\tat org.apache.spark.rdd.RDD.computeOrReadCheckpoint(RDD.scala:367)\n",
      "\tat org.apache.spark.rdd.RDD.iterator(RDD.scala:331)\n",
      "\tat org.apache.spark.rdd.MapPartitionsRDD.compute(MapPartitionsRDD.scala:52)\n",
      "\tat org.apache.spark.rdd.RDD.computeOrReadCheckpoint(RDD.scala:367)\n",
      "\tat org.apache.spark.rdd.RDD.iterator(RDD.scala:331)\n",
      "\tat org.apache.spark.rdd.MapPartitionsRDD.compute(MapPartitionsRDD.scala:52)\n",
      "\tat org.apache.spark.rdd.RDD.computeOrReadCheckpoint(RDD.scala:367)\n",
      "\tat org.apache.spark.rdd.RDD.iterator(RDD.scala:331)\n",
      "\tat org.apache.spark.scheduler.ResultTask.runTask(ResultTask.scala:93)\n",
      "\tat org.apache.spark.TaskContext.runTaskWithListeners(TaskContext.scala:166)\n",
      "\tat org.apache.spark.scheduler.Task.run(Task.scala:141)\n",
      "\tat org.apache.spark.executor.Executor$TaskRunner.$anonfun$run$4(Executor.scala:620)\n",
      "\tat org.apache.spark.util.SparkErrorUtils.tryWithSafeFinally(SparkErrorUtils.scala:64)\n",
      "\tat org.apache.spark.util.SparkErrorUtils.tryWithSafeFinally$(SparkErrorUtils.scala:61)\n",
      "\tat org.apache.spark.util.Utils$.tryWithSafeFinally(Utils.scala:94)\n",
      "\tat org.apache.spark.executor.Executor$TaskRunner.run(Executor.scala:623)\n",
      "\tat java.base/java.util.concurrent.ThreadPoolExecutor.runWorker(ThreadPoolExecutor.java:1136)\n",
      "\tat java.base/java.util.concurrent.ThreadPoolExecutor$Worker.run(ThreadPoolExecutor.java:635)\n",
      "\tat java.base/java.lang.Thread.run(Thread.java:833)\n",
      "\n",
      ")\n",
      "24/03/06 19:57:50 WARN TaskSetManager: Lost task 4.0 in stage 6.0 (TID 15) (172.20.0.4 executor 3): FetchFailed(BlockManagerId(2, 172.20.0.7, 36089, None), shuffleId=1, mapIndex=0, mapId=6, reduceId=197, message=\n",
      "org.apache.spark.shuffle.FetchFailedException\n",
      "\tat org.apache.spark.errors.SparkCoreErrors$.fetchFailedError(SparkCoreErrors.scala:437)\n",
      "\tat org.apache.spark.storage.ShuffleBlockFetcherIterator.throwFetchFailedException(ShuffleBlockFetcherIterator.scala:1236)\n",
      "\tat org.apache.spark.storage.ShuffleBlockFetcherIterator.next(ShuffleBlockFetcherIterator.scala:971)\n",
      "\tat org.apache.spark.storage.ShuffleBlockFetcherIterator.next(ShuffleBlockFetcherIterator.scala:86)\n",
      "\tat org.apache.spark.util.CompletionIterator.next(CompletionIterator.scala:29)\n",
      "\tat scala.collection.Iterator$$anon$11.nextCur(Iterator.scala:486)\n",
      "\tat scala.collection.Iterator$$anon$11.hasNext(Iterator.scala:492)\n",
      "\tat scala.collection.Iterator$$anon$10.hasNext(Iterator.scala:460)\n",
      "\tat org.apache.spark.util.CompletionIterator.hasNext(CompletionIterator.scala:31)\n",
      "\tat org.apache.spark.InterruptibleIterator.hasNext(InterruptibleIterator.scala:37)\n",
      "\tat scala.collection.Iterator$$anon$10.hasNext(Iterator.scala:460)\n",
      "\tat org.apache.spark.sql.catalyst.expressions.GeneratedClass$GeneratedIteratorForCodegenStage2.sort_addToSorter_0$(Unknown Source)\n",
      "\tat org.apache.spark.sql.catalyst.expressions.GeneratedClass$GeneratedIteratorForCodegenStage2.processNext(Unknown Source)\n",
      "\tat org.apache.spark.sql.execution.BufferedRowIterator.hasNext(BufferedRowIterator.java:43)\n",
      "\tat org.apache.spark.sql.execution.WholeStageCodegenEvaluatorFactory$WholeStageCodegenPartitionEvaluator$$anon$1.hasNext(WholeStageCodegenEvaluatorFactory.scala:43)\n",
      "\tat org.apache.spark.sql.execution.window.WindowExec$$anon$1.fetchNextRow(WindowExec.scala:118)\n",
      "\tat org.apache.spark.sql.execution.window.WindowExec$$anon$1.<init>(WindowExec.scala:127)\n",
      "\tat org.apache.spark.sql.execution.window.WindowExec.$anonfun$doExecute$3(WindowExec.scala:107)\n",
      "\tat org.apache.spark.rdd.RDD.$anonfun$mapPartitions$2(RDD.scala:858)\n",
      "\tat org.apache.spark.rdd.RDD.$anonfun$mapPartitions$2$adapted(RDD.scala:858)\n",
      "\tat org.apache.spark.rdd.MapPartitionsRDD.compute(MapPartitionsRDD.scala:52)\n",
      "\tat org.apache.spark.rdd.RDD.computeOrReadCheckpoint(RDD.scala:367)\n",
      "\tat org.apache.spark.rdd.RDD.iterator(RDD.scala:331)\n",
      "\tat org.apache.spark.rdd.MapPartitionsRDD.compute(MapPartitionsRDD.scala:52)\n",
      "\tat org.apache.spark.rdd.RDD.computeOrReadCheckpoint(RDD.scala:367)\n",
      "\tat org.apache.spark.rdd.RDD.iterator(RDD.scala:331)\n",
      "\tat org.apache.spark.rdd.MapPartitionsRDD.compute(MapPartitionsRDD.scala:52)\n",
      "\tat org.apache.spark.rdd.RDD.computeOrReadCheckpoint(RDD.scala:367)\n",
      "\tat org.apache.spark.rdd.RDD.iterator(RDD.scala:331)\n",
      "\tat org.apache.spark.rdd.MapPartitionsRDD.compute(MapPartitionsRDD.scala:52)\n",
      "\tat org.apache.spark.rdd.RDD.computeOrReadCheckpoint(RDD.scala:367)\n",
      "\tat org.apache.spark.rdd.RDD.iterator(RDD.scala:331)\n",
      "\tat org.apache.spark.rdd.MapPartitionsRDD.compute(MapPartitionsRDD.scala:52)\n",
      "\tat org.apache.spark.rdd.RDD.computeOrReadCheckpoint(RDD.scala:367)\n",
      "\tat org.apache.spark.rdd.RDD.iterator(RDD.scala:331)\n",
      "\tat org.apache.spark.scheduler.ResultTask.runTask(ResultTask.scala:93)\n",
      "\tat org.apache.spark.TaskContext.runTaskWithListeners(TaskContext.scala:166)\n",
      "\tat org.apache.spark.scheduler.Task.run(Task.scala:141)\n",
      "\tat org.apache.spark.executor.Executor$TaskRunner.$anonfun$run$4(Executor.scala:620)\n",
      "\tat org.apache.spark.util.SparkErrorUtils.tryWithSafeFinally(SparkErrorUtils.scala:64)\n",
      "\tat org.apache.spark.util.SparkErrorUtils.tryWithSafeFinally$(SparkErrorUtils.scala:61)\n",
      "\tat org.apache.spark.util.Utils$.tryWithSafeFinally(Utils.scala:94)\n",
      "\tat org.apache.spark.executor.Executor$TaskRunner.run(Executor.scala:623)\n",
      "\tat java.base/java.util.concurrent.ThreadPoolExecutor.runWorker(ThreadPoolExecutor.java:1136)\n",
      "\tat java.base/java.util.concurrent.ThreadPoolExecutor$Worker.run(ThreadPoolExecutor.java:635)\n",
      "\tat java.base/java.lang.Thread.run(Thread.java:833)\n",
      "Caused by: org.apache.spark.ExecutorDeadException: [INTERNAL_ERROR_NETWORK] The relative remote executor(Id: 2), which maintains the block data to fetch is dead.\n",
      "\tat org.apache.spark.network.netty.NettyBlockTransferService$$anon$2.createAndStart(NettyBlockTransferService.scala:141)\n",
      "\tat org.apache.spark.network.shuffle.RetryingBlockTransferor.transferAllOutstanding(RetryingBlockTransferor.java:173)\n",
      "\tat org.apache.spark.network.shuffle.RetryingBlockTransferor.start(RetryingBlockTransferor.java:152)\n",
      "\tat org.apache.spark.network.netty.NettyBlockTransferService.fetchBlocks(NettyBlockTransferService.scala:151)\n",
      "\tat org.apache.spark.storage.ShuffleBlockFetcherIterator.sendRequest(ShuffleBlockFetcherIterator.scala:374)\n",
      "\tat org.apache.spark.storage.ShuffleBlockFetcherIterator.send$1(ShuffleBlockFetcherIterator.scala:1203)\n",
      "\tat org.apache.spark.storage.ShuffleBlockFetcherIterator.fetchUpToMaxBytes(ShuffleBlockFetcherIterator.scala:1195)\n",
      "\tat org.apache.spark.storage.ShuffleBlockFetcherIterator.initialize(ShuffleBlockFetcherIterator.scala:715)\n",
      "\tat org.apache.spark.storage.ShuffleBlockFetcherIterator.<init>(ShuffleBlockFetcherIterator.scala:194)\n",
      "\tat org.apache.spark.shuffle.BlockStoreShuffleReader.read(BlockStoreShuffleReader.scala:73)\n",
      "\tat org.apache.spark.sql.execution.ShuffledRowRDD.compute(ShuffledRowRDD.scala:232)\n",
      "\tat org.apache.spark.rdd.RDD.computeOrReadCheckpoint(RDD.scala:367)\n",
      "\tat org.apache.spark.rdd.RDD.iterator(RDD.scala:331)\n",
      "\tat org.apache.spark.rdd.MapPartitionsRDD.compute(MapPartitionsRDD.scala:52)\n",
      "\tat org.apache.spark.rdd.RDD.computeOrReadCheckpoint(RDD.scala:367)\n",
      "\tat org.apache.spark.rdd.RDD.iterator(RDD.scala:331)\n",
      "\t... 26 more\n",
      "\n",
      ")\n",
      "24/03/06 20:01:26 WARN HeartbeatReceiver: Removing executor 4 with no recent heartbeats: 136782 ms exceeds timeout 120000 ms\n",
      "24/03/06 20:01:26 ERROR TaskSchedulerImpl: Lost executor 3 on 172.20.0.4: Command exited with code 137\n",
      "24/03/06 20:01:26 ERROR TaskSchedulerImpl: Lost executor 4 on 172.20.0.7: Executor heartbeat timed out after 136782 ms\n",
      "24/03/06 20:01:26 WARN TaskSetManager: Lost task 0.0 in stage 6.1 (TID 17) (172.20.0.7 executor 4): ExecutorLostFailure (executor 4 exited caused by one of the running tasks) Reason: Executor heartbeat timed out after 136782 ms\n",
      "24/03/06 20:01:27 WARN TaskSetManager: Lost task 0.1 in stage 6.1 (TID 19) (172.20.0.6 executor 1): FetchFailed(null, shuffleId=1, mapIndex=-1, mapId=-1, reduceId=53, message=\n",
      "org.apache.spark.shuffle.MetadataFetchFailedException: Missing an output location for shuffle 1 partition 53\n",
      "\tat org.apache.spark.MapOutputTracker$.validateStatus(MapOutputTracker.scala:1739)\n",
      "\tat org.apache.spark.MapOutputTracker$.$anonfun$convertMapStatuses$11(MapOutputTracker.scala:1686)\n",
      "\tat org.apache.spark.MapOutputTracker$.$anonfun$convertMapStatuses$11$adapted(MapOutputTracker.scala:1685)\n",
      "\tat scala.collection.Iterator.foreach(Iterator.scala:943)\n",
      "\tat scala.collection.Iterator.foreach$(Iterator.scala:943)\n",
      "\tat scala.collection.AbstractIterator.foreach(Iterator.scala:1431)\n",
      "\tat org.apache.spark.MapOutputTracker$.convertMapStatuses(MapOutputTracker.scala:1685)\n",
      "\tat org.apache.spark.MapOutputTrackerWorker.getMapSizesByExecutorIdImpl(MapOutputTracker.scala:1327)\n",
      "\tat org.apache.spark.MapOutputTrackerWorker.getMapSizesByExecutorId(MapOutputTracker.scala:1289)\n",
      "\tat org.apache.spark.shuffle.sort.SortShuffleManager.getReader(SortShuffleManager.scala:140)\n",
      "\tat org.apache.spark.shuffle.ShuffleManager.getReader(ShuffleManager.scala:63)\n",
      "\tat org.apache.spark.shuffle.ShuffleManager.getReader$(ShuffleManager.scala:57)\n",
      "\tat org.apache.spark.shuffle.sort.SortShuffleManager.getReader(SortShuffleManager.scala:73)\n",
      "\tat org.apache.spark.sql.execution.ShuffledRowRDD.compute(ShuffledRowRDD.scala:200)\n",
      "\tat org.apache.spark.rdd.RDD.computeOrReadCheckpoint(RDD.scala:367)\n",
      "\tat org.apache.spark.rdd.RDD.iterator(RDD.scala:331)\n",
      "\tat org.apache.spark.rdd.MapPartitionsRDD.compute(MapPartitionsRDD.scala:52)\n",
      "\tat org.apache.spark.rdd.RDD.computeOrReadCheckpoint(RDD.scala:367)\n",
      "\tat org.apache.spark.rdd.RDD.iterator(RDD.scala:331)\n",
      "\tat org.apache.spark.rdd.MapPartitionsRDD.compute(MapPartitionsRDD.scala:52)\n",
      "\tat org.apache.spark.rdd.RDD.computeOrReadCheckpoint(RDD.scala:367)\n",
      "\tat org.apache.spark.rdd.RDD.iterator(RDD.scala:331)\n",
      "\tat org.apache.spark.rdd.MapPartitionsRDD.compute(MapPartitionsRDD.scala:52)\n",
      "\tat org.apache.spark.rdd.RDD.computeOrReadCheckpoint(RDD.scala:367)\n",
      "\tat org.apache.spark.rdd.RDD.iterator(RDD.scala:331)\n",
      "\tat org.apache.spark.rdd.MapPartitionsRDD.compute(MapPartitionsRDD.scala:52)\n",
      "\tat org.apache.spark.rdd.RDD.computeOrReadCheckpoint(RDD.scala:367)\n",
      "\tat org.apache.spark.rdd.RDD.iterator(RDD.scala:331)\n",
      "\tat org.apache.spark.rdd.MapPartitionsRDD.compute(MapPartitionsRDD.scala:52)\n",
      "\tat org.apache.spark.rdd.RDD.computeOrReadCheckpoint(RDD.scala:367)\n",
      "\tat org.apache.spark.rdd.RDD.iterator(RDD.scala:331)\n",
      "\tat org.apache.spark.rdd.MapPartitionsRDD.compute(MapPartitionsRDD.scala:52)\n",
      "\tat org.apache.spark.rdd.RDD.computeOrReadCheckpoint(RDD.scala:367)\n",
      "\tat org.apache.spark.rdd.RDD.iterator(RDD.scala:331)\n",
      "\tat org.apache.spark.scheduler.ResultTask.runTask(ResultTask.scala:93)\n",
      "\tat org.apache.spark.TaskContext.runTaskWithListeners(TaskContext.scala:166)\n",
      "\tat org.apache.spark.scheduler.Task.run(Task.scala:141)\n",
      "\tat org.apache.spark.executor.Executor$TaskRunner.$anonfun$run$4(Executor.scala:620)\n",
      "\tat org.apache.spark.util.SparkErrorUtils.tryWithSafeFinally(SparkErrorUtils.scala:64)\n",
      "\tat org.apache.spark.util.SparkErrorUtils.tryWithSafeFinally$(SparkErrorUtils.scala:61)\n",
      "\tat org.apache.spark.util.Utils$.tryWithSafeFinally(Utils.scala:94)\n",
      "\tat org.apache.spark.executor.Executor$TaskRunner.run(Executor.scala:623)\n",
      "\tat java.base/java.util.concurrent.ThreadPoolExecutor.runWorker(ThreadPoolExecutor.java:1136)\n",
      "\tat java.base/java.util.concurrent.ThreadPoolExecutor$Worker.run(ThreadPoolExecutor.java:635)\n",
      "\tat java.base/java.lang.Thread.run(Thread.java:833)\n",
      "\n",
      ")\n",
      "                                                                                \r"
     ]
    },
    {
     "name": "stdout",
     "output_type": "stream",
     "text": [
      "+----------+-----+--------------------+--------------------+------------------+\n",
      "|month-year|Count|                Mean|              median|              stdv|\n",
      "+----------+-----+--------------------+--------------------+------------------+\n",
      "|  1 - 1935| 8927|0.002168256223790024| 0.18807056596119764|  20.3523596592974|\n",
      "|  1 - 1943| 8927|-8.76104042829612...|0.023595834648872938|20.488594394226823|\n",
      "|  1 - 1946| 8927|6.744527105601714E-4|-0.19048256216544246|20.262662517025266|\n",
      "|  1 - 1951| 8927|-0.00268879092508...| -0.3657152994107946|20.175674016787937|\n",
      "|  1 - 1953| 8927|-8.83137132356547...|  -0.108197697186867|20.241836230329916|\n",
      "|  1 - 1955| 8927|-3.64142841308176...|0.040190133207829604|20.371177402389346|\n",
      "|  1 - 1960| 8927|-0.00421994429753...|-0.15176855323625205|20.337131071404187|\n",
      "|  1 - 1961| 8927|-0.00233066421373...|-0.00937489663090...|20.545401736796126|\n",
      "|  1 - 1974| 8927| -0.0024877919902101|-0.04392825026520342| 20.18358002339696|\n",
      "|  1 - 1979| 8927|-0.00100976116572...|-0.08412070915332492|20.605074532431555|\n",
      "+----------+-----+--------------------+--------------------+------------------+\n",
      "only showing top 10 rows\n",
      "\n"
     ]
    }
   ],
   "source": [
    "# Add Month, Year , Day to table\n",
    "\n",
    "df = df.withColumn(\"Year\",year(col(\"timestamp\"))) \\\n",
    "    .withColumn(\"Month\",month(col(\"timestamp\"))) \\\n",
    "    .withColumn(\"Day\",dayofmonth(col(\"timestamp\"))) \\\n",
    "    .withColumn(\"month-year\", concat(month(col(\"timestamp\")), lit(\" - \"), year(col(\"timestamp\"))))\n",
    "#df.show(3)\n",
    "\n",
    "# Get Previous Temperature for every month in every yerar and Compare\n",
    "window_spec_1 = Window.partitionBy(\"month-year\").orderBy(\"timestamp\")\n",
    "df_temp_w = df.withColumn(\"Prev_Temperature\", lag(\"Temperature\").over(window_spec_1)) \\\n",
    "    .withColumn(\"Temp_Diff\",col(\"Temperature\") - col(\"Prev_Temperature\")) \\\n",
    "    .select(\"Temperature\",\"Prev_Temperature\",\"Temp_Diff\",\"timestamp\",\"month-year\")\n",
    "#df_temp_w.show()\n",
    "_chk_1 = df_temp_w.filter(\n",
    "    col(\"month-year\") == \"11 - 1995\").toPandas()\n",
    "\n",
    "#Change in Temperature Aggregation\n",
    "agg_temp = df_temp_w.groupBy(\n",
    "        \"month-year\").agg(\n",
    "            count(\"Temp_Diff\").alias(\"Count\"),\n",
    "            avg(\"Temp_Diff\").alias(\"Mean\"),\n",
    "            median(\"Temp_Diff\").alias(\"median\"),\n",
    "            stddev(\"Temp_Diff\").alias(\"stdv\")\n",
    "    )\n",
    "\n",
    "\n",
    "agg_temp_pdf = agg_temp.withColumn(\"mth\",split(col(\"month-year\"),\"-\").getItem(0)) \\\n",
    "    .withColumn(\"yr\",split(col(\"month-year\"),\"-\").getItem(1)) \\\n",
    "    .toPandas()\n",
    "#agg_temp.write.csv(azure_blob_url+\"agg_temp_data.csv\",header=True)\n",
    "agg_temp.show(10)\n"
   ]
  },
  {
   "cell_type": "code",
   "execution_count": 8,
   "id": "52516a27-f843-4af0-b0b6-2d075314f186",
   "metadata": {
    "tags": []
   },
   "outputs": [],
   "source": [
    "spark.stop()"
   ]
  },
  {
   "cell_type": "code",
   "execution_count": 7,
   "id": "4c1617ec-b163-48a2-9955-b66821faac5b",
   "metadata": {
    "tags": []
   },
   "outputs": [
    {
     "name": "stdout",
     "output_type": "stream",
     "text": [
      "0:08:28.961101\n"
     ]
    },
    {
     "data": {
      "image/png": "[encoded data removed]",
      "text/plain": [
       "<Figure size 900x300 with 1 Axes>"
      ]
     },
     "metadata": {},
     "output_type": "display_data"
    }
   ],
   "source": [
    "agg_temp_pdf[\"mth\"] = pd.to_numeric(agg_temp_pdf[\"mth\"])\n",
    "agg_temp_pdf[\"yr\"] = pd.to_numeric(agg_temp_pdf[\"yr\"])\n",
    "agg_temp_pdf = agg_temp_pdf.sort_values([\"yr\",\"mth\"], ascending = [True,True])\n",
    "agg_temp_pdf[\"dt\"] = agg_temp_pdf[\"mth\"].astype(str) + \"-\" +agg_temp_pdf[\"yr\"].astype(str)\n",
    "agg_temp_pdf[\"dt\"] = agg_temp_pdf[\"dt\"].apply(lambda x: datetime.datetime(month=int(x.split(\"-\")[0]), \n",
    "                                                                         year=int(x.split(\"-\")[1]), \n",
    "                                                                         day=1))\n",
    "#agg_temp_pdf[\"dt\"] = agg_temp_pdf[\"dt\"].apply(lambda x: [int(x.split(\"-\")[0]), int(x.split(\"-\")[1]), 1])\n",
    "sns.set_theme(rc={'figure.figsize':(9,3)})\n",
    "bar = sns.lineplot(\n",
    "    data = agg_temp_pdf[\n",
    "        (agg_temp_pdf[\"dt\"] < datetime.datetime(1950,1,1)) &\n",
    "        (agg_temp_pdf[\"dt\"] >= datetime.datetime(1940,1,1))\n",
    "    ],\n",
    "    x = \"dt\",\n",
    "    y = \"Mean\"\n",
    ")\n",
    "plt.xticks(rotation = 70)\n",
    "plt.savefig(\"line_plot.png\")\n",
    "plt.clf()\n",
    "box = sns.boxplot(\n",
    "    data = agg_temp_pdf[\n",
    "        (agg_temp_pdf[\"dt\"] < datetime.datetime(1950,1,1)) &\n",
    "        (agg_temp_pdf[\"dt\"] >= datetime.datetime(1940,1,1))\n",
    "    ],\n",
    "    y = \"Mean\",\n",
    "    x = \"yr\"\n",
    "\n",
    ")\n",
    "plt.savefig(\"boxplot.png\")\n",
    "\n",
    "n_2 = datetime.datetime.now()\n",
    "print(n_2-n_1)\n"
   ]
  }
 ],
 "metadata": {
  "kernelspec": {
   "display_name": "Python 3 (ipykernel)",
   "language": "python",
   "name": "python3"
  },
  "language_info": {
   "codemirror_mode": {
    "name": "ipython",
    "version": 3
   },
   "file_extension": ".py",
   "mimetype": "text/x-python",
   "name": "python",
   "nbconvert_exporter": "python",
   "pygments_lexer": "ipython3",
   "version": "3.7.3"
  }
 },
 "nbformat": 4,
 "nbformat_minor": 5
}

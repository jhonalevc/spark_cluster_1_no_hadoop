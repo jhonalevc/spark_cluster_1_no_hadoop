{
 "cells": [
  {
   "cell_type": "code",
   "execution_count": 1,
   "id": "3225ae0b-3f90-4489-afc3-a8afc08723a9",
   "metadata": {},
   "outputs": [],
   "source": [
    "from pyspark import SparkContext\n",
    "from pyspark.sql import SparkSession\n",
    "sc = SparkContext(\"local\",\"udf\")\n",
    "spark = SparkSession.builder.appName(\"UDF\").getOrCreate()"
   ]
  },
  {
   "cell_type": "code",
   "execution_count": 3,
   "id": "6fd68c0a-1788-41ef-a45f-6782275c09d8",
   "metadata": {},
   "outputs": [
    {
     "name": "stdout",
     "output_type": "stream",
     "text": [
      "+--------+---+--------+------+------------+\n",
      "|    Name|Age|  Salary|Gender|        City|\n",
      "+--------+---+--------+------+------------+\n",
      "|Aljandro| 28|13500000|     M|Barranquilla|\n",
      "|    Sara| 30| 4700000|     F|      Bogota|\n",
      "|Mauricio| 35|13000000|     M|      Bogota|\n",
      "+--------+---+--------+------+------------+\n",
      "only showing top 3 rows\n",
      "\n"
     ]
    }
   ],
   "source": [
    "from pyspark.sql.types import StructField, StructType, StringType, IntegerType\n",
    "\n",
    "schema = StructType([StructField(\"Name\",StringType(),True),StructField(\"Age\",IntegerType(),True),StructField(\"Salary\",IntegerType(),True),\n",
    "        StructField(\"Gender\",StringType(),True), StructField(\"City\",StringType(),True)])\n",
    "data = [\n",
    "    ('Aljandro', 28, 13500000, 'M', 'Barranquilla'), ('Sara', 30, 4700000, 'F', 'Bogota'),('Mauricio', 35, 13000000, 'M', 'Bogota'), ('Santiago', 32, 21000000, 'M', 'Barranquilla'),\n",
    "    ('Andres', 33, 10000000, 'M', 'Medellin'),  ('Jacob', 27, 7000000, 'M', 'Barranquilla'), ('Jairo', 65, 2000000, 'M', 'Bogota'), ('Carmen', 65, 1500000, 'F', 'Cali'),\n",
    "    ('Sonia', 52, 4500000, 'F', 'Cali'), ('Emily', 28, 6000000, 'F', 'Barranquilla'), ('David', 35, 4000000, 'M', 'Barranquilla'), ('Sophia', 45, 7500000, 'F', 'Medellin'),\n",
    "    ('Daniel', 31, 3000000, 'M', 'Medellin'), ('Olivia', 26, 5500000, 'F', 'Barranquilla'), ('Matthew', 50, 8500000, 'M', 'Bogota'), ('Emma', 33, 7000000, 'F', 'Barranquilla'),\n",
    "    ('Andrew', 29, 4500000, 'M', 'Bogota'),  ('Isabella', 39, 9000000, 'F', 'Cali'), ('John', 55, 5000000, 'M', 'Barranquilla'),('Ava', 30, 6500000, 'F', 'Barranquilla'),\n",
    "    ('James', 42, 8000000, 'M', 'Medellin'), ('Mia', 32, 5500000, 'F', 'Bogota'), ('Alexander', 38, 7500000, 'M', 'Cali'), ('Abigail', 27, 6000000, 'F', 'Cali'),\n",
    "    ('William', 48, 8500000, 'M', 'Bogota'),  ('Charlotte', 25, 7000000, 'F', 'Cali'), ('Michael', 41, 9500000, 'M', 'Barranquilla'), ('Harper', 29, 6500000, 'F', 'Barranquilla'),\n",
    "    ('Ethan', 36, 8000000, 'M', 'Cali'),  ('Evelyn', 34, 5500000, 'F', 'Barranquilla'), ('Ryan', 51, 9000000, 'M', 'Cali'),  ('Amelia', 31, 7000000, 'F', 'Medellin'),\n",
    "    ('Matthew', 37, 7500000, 'M', 'Medellin'), ('Elizabeth', 23, 6000000, 'F', 'Bogota'), ('Jacob', 49, 9500000, 'M', 'Medellin'), ('Samantha', 28, 6500000, 'F', 'Cali'),\n",
    "    ('Benjamin', 43, 8000000, 'M', 'Medellin'), ('Lily', 35, 5500000, 'F', 'Barranquilla'), ('Henry', 52, 9000000, 'M', 'Medellin'),('Chloe', 33, 7000000, 'F', 'Bogota'),\n",
    "    ('Lucas', 40, 7500000, 'M', 'Bogota'), ('Grace', 24, 6000000, 'F', 'Medellin'), ('Gabriel', 47, 9500000, 'M', 'Cali'), ('Madison', 30, 6500000, 'F', 'Barranquilla'),\n",
    "    ('Carter', 39, 8000000, 'M', 'Bogota'), ('Avery', 26, 5500000, 'F', 'Barranquilla'), ('Owen', 53, 9000000, 'M', 'Medellin'),('Victoria', 32, 7000000, 'F', 'Barranquilla'),\n",
    "    ('Jackson', 44, 8500000, 'M', 'Barranquilla'), ('Penelope', 29, 6500000, 'F', 'Medellin'), ('Sebastian', 45, 9000000, 'M', 'Barranquilla'),\n",
    "]\n",
    "df_1 = spark.createDataFrame(\n",
    "    schema = schema,\n",
    "    data = data\n",
    ")\n",
    "df_1.show(3)"
   ]
  },
  {
   "cell_type": "code",
   "execution_count": 6,
   "id": "76010ffe-19eb-4ec1-a9f9-db972f4d92b4",
   "metadata": {},
   "outputs": [
    {
     "name": "stdout",
     "output_type": "stream",
     "text": [
      "+--------+---+--------+------+------------+--------------------+\n",
      "|    Name|Age|  Salary|Gender|        City|    City With Prefix|\n",
      "+--------+---+--------+------+------------+--------------------+\n",
      "|Aljandro| 28|13500000|     M|Barranquilla|City of Barranquilla|\n",
      "|    Sara| 30| 4700000|     F|      Bogota|      City of Bogota|\n",
      "|Mauricio| 35|13000000|     M|      Bogota|      City of Bogota|\n",
      "+--------+---+--------+------+------------+--------------------+\n",
      "only showing top 3 rows\n",
      "\n"
     ]
    }
   ],
   "source": [
    "from pyspark.sql.functions import udf, col\n",
    "from pyspark.sql.types import StringType\n",
    "\n",
    "def add_prefix_city(city):\n",
    "    return \"City of \" + city\n",
    "add_prefix_city_udf = udf(add_prefix_city, StringType())\n",
    "df_city_prefix = df_1.withColumn(\"City With Prefix\",add_prefix_city_udf(col(\"City\")))\n",
    "df_city_prefix.show(3)\n",
    "    "
   ]
  },
  {
   "cell_type": "code",
   "execution_count": 8,
   "id": "958fb657-d950-49d5-bb1d-384c9708f098",
   "metadata": {},
   "outputs": [
    {
     "name": "stdout",
     "output_type": "stream",
     "text": [
      "+--------+---+--------+------+------------+--------------------+-------------+\n",
      "|    Name|Age|  Salary|Gender|        City|    City With Prefix|  Formal Name|\n",
      "+--------+---+--------+------+------------+--------------------+-------------+\n",
      "|Aljandro| 28|13500000|     M|Barranquilla|City of Barranquilla| Mr. Aljandro|\n",
      "|    Sara| 30| 4700000|     F|      Bogota|      City of Bogota|    Mrs. Sara|\n",
      "|Mauricio| 35|13000000|     M|      Bogota|      City of Bogota| Mr. Mauricio|\n",
      "|Santiago| 32|21000000|     M|Barranquilla|City of Barranquilla| Mr. Santiago|\n",
      "|  Andres| 33|10000000|     M|    Medellin|    City of Medellin|   Mr. Andres|\n",
      "|   Jacob| 27| 7000000|     M|Barranquilla|City of Barranquilla|    Mr. Jacob|\n",
      "|   Jairo| 65| 2000000|     M|      Bogota|      City of Bogota|    Mr. Jairo|\n",
      "|  Carmen| 65| 1500000|     F|        Cali|        City of Cali|  Mrs. Carmen|\n",
      "|   Sonia| 52| 4500000|     F|        Cali|        City of Cali|   Mrs. Sonia|\n",
      "|   Emily| 28| 6000000|     F|Barranquilla|City of Barranquilla|   Mrs. Emily|\n",
      "|   David| 35| 4000000|     M|Barranquilla|City of Barranquilla|    Mr. David|\n",
      "|  Sophia| 45| 7500000|     F|    Medellin|    City of Medellin|  Mrs. Sophia|\n",
      "|  Daniel| 31| 3000000|     M|    Medellin|    City of Medellin|   Mr. Daniel|\n",
      "|  Olivia| 26| 5500000|     F|Barranquilla|City of Barranquilla|  Mrs. Olivia|\n",
      "| Matthew| 50| 8500000|     M|      Bogota|      City of Bogota|  Mr. Matthew|\n",
      "|    Emma| 33| 7000000|     F|Barranquilla|City of Barranquilla|    Mrs. Emma|\n",
      "|  Andrew| 29| 4500000|     M|      Bogota|      City of Bogota|   Mr. Andrew|\n",
      "|Isabella| 39| 9000000|     F|        Cali|        City of Cali|Mrs. Isabella|\n",
      "|    John| 55| 5000000|     M|Barranquilla|City of Barranquilla|     Mr. John|\n",
      "|     Ava| 30| 6500000|     F|Barranquilla|City of Barranquilla|     Mrs. Ava|\n",
      "+--------+---+--------+------+------------+--------------------+-------------+\n",
      "only showing top 20 rows\n",
      "\n"
     ]
    }
   ],
   "source": [
    "def salutation(gender,name):\n",
    "    if gender == \"M\":\n",
    "        return f\"Mr. {name}\"\n",
    "    elif gender == \"F\":\n",
    "        return f\"Mrs. {name}\"\n",
    "udf_salutation = udf(salutation,StringType())\n",
    "df_final = df_city_prefix.withColumn(\n",
    "    \"Formal Name\",\n",
    "    udf_salutation(\n",
    "        col(\"Gender\"),\n",
    "        col(\"Name\")\n",
    "    )\n",
    ")\n",
    "df_final.show()"
   ]
  }
 ],
 "metadata": {
  "kernelspec": {
   "display_name": "Python 3 (ipykernel)",
   "language": "python",
   "name": "python3"
  },
  "language_info": {
   "codemirror_mode": {
    "name": "ipython",
    "version": 3
   },
   "file_extension": ".py",
   "mimetype": "text/x-python",
   "name": "python",
   "nbconvert_exporter": "python",
   "pygments_lexer": "ipython3",
   "version": "3.7.3"
  }
 },
 "nbformat": 4,
 "nbformat_minor": 5
}

{
 "cells": [
  {
   "cell_type": "code",
   "execution_count": 2,
   "id": "dee6f9e3-990f-4eb2-9f39-445cdefaf400",
   "metadata": {},
   "outputs": [],
   "source": [
    "import pyspark\n",
    "sc = pyspark.SparkContext(\"local\",\"Manipulation\")\n",
    "spark = pyspark.sql.SparkSession.builder.appName(\"Manipulation\").getOrCreate()"
   ]
  },
  {
   "cell_type": "code",
   "execution_count": 8,
   "id": "4bb19c0c-3ec6-4dbf-b48a-756d6547e63e",
   "metadata": {},
   "outputs": [
    {
     "name": "stdout",
     "output_type": "stream",
     "text": [
      "+--------+---+--------+------+------------+\n",
      "|    Name|Age|  Salary|Gender|        City|\n",
      "+--------+---+--------+------+------------+\n",
      "|Aljandro| 28|13500000|     M|Barranquilla|\n",
      "|    Sara| 30| 4700000|     F|      Bogota|\n",
      "|Mauricio| 35|13000000|     M|      Bogota|\n",
      "+--------+---+--------+------+------------+\n",
      "only showing top 3 rows\n",
      "\n"
     ]
    }
   ],
   "source": [
    "from pyspark.sql.types import StructField, StructType, StringType, IntegerType\n",
    "\n",
    "schema = StructType([StructField(\"Name\",StringType(),True),StructField(\"Age\",IntegerType(),True),StructField(\"Salary\",IntegerType(),True),\n",
    "        StructField(\"Gender\",StringType(),True), StructField(\"City\",StringType(),True)])\n",
    "\n",
    "data = [\n",
    "    ('Aljandro', 28, 13500000, 'M', 'Barranquilla'), ('Sara', 30, 4700000, 'F', 'Bogota'),('Mauricio', 35, 13000000, 'M', 'Bogota'), ('Santiago', 32, 21000000, 'M', 'Barranquilla'),\n",
    "    ('Andres', 33, 10000000, 'M', 'Medellin'),  ('Jacob', 27, 7000000, 'M', 'Barranquilla'), ('Jairo', 65, 2000000, 'M', 'Bogota'), ('Carmen', 65, 1500000, 'F', 'Cali'),\n",
    "    ('Sonia', 52, 4500000, 'F', 'Cali'), ('Emily', 28, 6000000, 'F', 'Barranquilla'), ('David', 35, 4000000, 'M', 'Barranquilla'), ('Sophia', 45, 7500000, 'F', 'Medellin'),\n",
    "    ('Daniel', 31, 3000000, 'M', 'Medellin'), ('Olivia', 26, 5500000, 'F', 'Barranquilla'), ('Matthew', 50, 8500000, 'M', 'Bogota'), ('Emma', 33, 7000000, 'F', 'Barranquilla'),\n",
    "    ('Andrew', 29, 4500000, 'M', 'Bogota'),  ('Isabella', 39, 9000000, 'F', 'Cali'), ('John', 55, 5000000, 'M', 'Barranquilla'),('Ava', 30, 6500000, 'F', 'Barranquilla'),\n",
    "    ('James', 42, 8000000, 'M', 'Medellin'), ('Mia', 32, 5500000, 'F', 'Bogota'), ('Alexander', 38, 7500000, 'M', 'Cali'), ('Abigail', 27, 6000000, 'F', 'Cali'),\n",
    "    ('William', 48, 8500000, 'M', 'Bogota'),  ('Charlotte', 25, 7000000, 'F', 'Cali'), ('Michael', 41, 9500000, 'M', 'Barranquilla'), ('Harper', 29, 6500000, 'F', 'Barranquilla'),\n",
    "    ('Ethan', 36, 8000000, 'M', 'Cali'),  ('Evelyn', 34, 5500000, 'F', 'Barranquilla'), ('Ryan', 51, 9000000, 'M', 'Cali'),  ('Amelia', 31, 7000000, 'F', 'Medellin'),\n",
    "    ('Matthew', 37, 7500000, 'M', 'Medellin'), ('Elizabeth', 23, 6000000, 'F', 'Bogota'), ('Jacob', 49, 9500000, 'M', 'Medellin'), ('Samantha', 28, 6500000, 'F', 'Cali'),\n",
    "    ('Benjamin', 43, 8000000, 'M', 'Medellin'), ('Lily', 35, 5500000, 'F', 'Barranquilla'), ('Henry', 52, 9000000, 'M', 'Medellin'),('Chloe', 33, 7000000, 'F', 'Bogota'),\n",
    "    ('Lucas', 40, 7500000, 'M', 'Bogota'), ('Grace', 24, 6000000, 'F', 'Medellin'), ('Gabriel', 47, 9500000, 'M', 'Cali'), ('Madison', 30, 6500000, 'F', 'Barranquilla'),\n",
    "    ('Carter', 39, 8000000, 'M', 'Bogota'), ('Avery', 26, 5500000, 'F', 'Barranquilla'), ('Owen', 53, 9000000, 'M', 'Medellin'),('Victoria', 32, 7000000, 'F', 'Barranquilla'),\n",
    "    ('Jackson', 44, 8500000, 'M', 'Barranquilla'), ('Penelope', 29, 6500000, 'F', 'Medellin'), ('Sebastian', 45, 9000000, 'M', 'Barranquilla'),\n",
    "]\n",
    "df_1 = spark.createDataFrame(\n",
    "    schema = schema,\n",
    "    data = data\n",
    ")\n",
    "df_1.show(3)"
   ]
  },
  {
   "cell_type": "code",
   "execution_count": 13,
   "id": "699ac9ae-6758-44f0-89f6-d829302dd312",
   "metadata": {},
   "outputs": [
    {
     "name": "stdout",
     "output_type": "stream",
     "text": [
      "+--------+---+--------+------+------------+--------------------+--------------------+\n",
      "|    Name|Age|  Salary|Gender|        City|          New_Salary|            N_Name_1|\n",
      "+--------+---+--------+------+------------+--------------------+--------------------+\n",
      "|Aljandro| 28|13500000|     M|Barranquilla|1.4850000000000002E7|Aljandro - Barran...|\n",
      "|    Sara| 30| 4700000|     F|      Bogota|           5170000.0|       Sara - Bogota|\n",
      "|Mauricio| 35|13000000|     M|      Bogota|1.4300000000000002E7|   Mauricio - Bogota|\n",
      "+--------+---+--------+------+------------+--------------------+--------------------+\n",
      "only showing top 3 rows\n",
      "\n",
      "+--------+---+--------+------+------------+--------------------+--------------------+\n",
      "|    Name|Age|  Salary|Gender|        City|          New_Salary|            N_Name_1|\n",
      "+--------+---+--------+------+------------+--------------------+--------------------+\n",
      "|Aljandro| 28|13500000|     M|Barranquilla|1.4850000000000002E7|Aljandro - Barran...|\n",
      "|    Sara| 30| 4700000|     F|      Bogota|           5170000.0|       Sara - Bogota|\n",
      "|Mauricio| 35|13000000|     M|      Bogota|1.4300000000000002E7|   Mauricio - Bogota|\n",
      "+--------+---+--------+------+------------+--------------------+--------------------+\n",
      "only showing top 3 rows\n",
      "\n"
     ]
    }
   ],
   "source": [
    "from pyspark.sql.functions import col, concat, lit\n",
    "#Increase the salary  10% in a new column\n",
    "df_1 = df_1.withColumn(\"New_Salary\", col(\"Salary\") * 1.1)\n",
    "df_1.show(3)\n",
    "# Concatenate columns into a new Column:\n",
    "df_1 = df_1.withColumn(\"N_Name_1\", concat(col(\"Name\"),lit(\" - \"),col(\"City\")))\n",
    "df_1.show(3)"
   ]
  },
  {
   "cell_type": "code",
   "execution_count": 21,
   "id": "fd559fb8-c911-47f6-91da-a9aee796fdb5",
   "metadata": {},
   "outputs": [
    {
     "name": "stdout",
     "output_type": "stream",
     "text": [
      "+---------+---+-------+------+--------+-----------------+------------------+\n",
      "|     Name|Age| Salary|Gender|    City|       New_Salary|          N_Name_1|\n",
      "+---------+---+-------+------+--------+-----------------+------------------+\n",
      "|Elizabeth| 23|6000000|     F|  Bogota|6600000.000000001|Elizabeth - Bogota|\n",
      "|    Grace| 24|6000000|     F|Medellin|6600000.000000001|  Grace - Medellin|\n",
      "+---------+---+-------+------+--------+-----------------+------------------+\n",
      "\n",
      "+--------+---+--------+------+------------+--------------------+--------------------+\n",
      "|    Name|Age|  Salary|Gender|        City|          New_Salary|            N_Name_1|\n",
      "+--------+---+--------+------+------------+--------------------+--------------------+\n",
      "|    Sara| 30| 4700000|     F|      Bogota|           5170000.0|       Sara - Bogota|\n",
      "|Mauricio| 35|13000000|     M|      Bogota|1.4300000000000002E7|   Mauricio - Bogota|\n",
      "|Santiago| 32|21000000|     M|Barranquilla|2.3100000000000004E7|Santiago - Barran...|\n",
      "+--------+---+--------+------+------------+--------------------+--------------------+\n",
      "only showing top 3 rows\n",
      "\n",
      "+---------+---+-------+------+------------+----------+--------------------+\n",
      "|     Name|Age| Salary|Gender|        City|New_Salary|            N_Name_1|\n",
      "+---------+---+-------+------+------------+----------+--------------------+\n",
      "|    Sonia| 52|4500000|     F|        Cali| 4950000.0|        Sonia - Cali|\n",
      "|  Matthew| 50|8500000|     M|      Bogota| 9350000.0|    Matthew - Bogota|\n",
      "|     John| 55|5000000|     M|Barranquilla| 5500000.0| John - Barranquilla|\n",
      "|  William| 48|8500000|     M|      Bogota| 9350000.0|    William - Bogota|\n",
      "|     Ryan| 51|9000000|     M|        Cali| 9900000.0|         Ryan - Cali|\n",
      "|  Gabriel| 47|9500000|     M|        Cali|   1.045E7|      Gabriel - Cali|\n",
      "|Sebastian| 45|9000000|     M|Barranquilla| 9900000.0|Sebastian - Barra...|\n",
      "+---------+---+-------+------+------------+----------+--------------------+\n",
      "\n"
     ]
    }
   ],
   "source": [
    "#Filtering on 1 Field and 1 value\n",
    "_1 = df_1.filter(col(\"Age\") < 25)\n",
    "_1.show(3)\n",
    "# Filtering on 1 Field and two values\n",
    "_2 = df_1.filter((col(\"Age\") >=30) & (col(\"Age\") <40))\n",
    "_2.show(3)\n",
    "# Filtering on Multiple fields and values\n",
    "_3 = df_1.filter(\n",
    "    (col(\"Age\") >= 45) &\n",
    "    (col(\"Age\") < 60 ) &\n",
    "    (col(\"City\") != \"Medellin\")\n",
    ")\n",
    "_3.show()"
   ]
  },
  {
   "cell_type": "markdown",
   "id": "889a4f2c-f5f0-4512-a677-2740a71fb63b",
   "metadata": {},
   "source": [
    "<h1> Window Functions </h1>\n",
    "<h3>Definition</h3>\n",
    "<p>\n",
    "is a function which uses values from one or multiple rows to return a value for each row. (This contrasts with an aggregate function, which returns a single value for multiple rows.) Window functions have an OVER clause; any function without an OVER clause is not a window function, but rather an aggregate or single-row (scalar) function\n",
    "</p>\n",
    "<h3>Example</h3>\n",
    "<p>\n",
    "As an example, here is a query which uses a window function to compare the salary of each employee with the average salary of their department (example from the PostgreSQL documentation)\n",
    "</p>\n",
    "<b>SELECT depname, empno, salary, avg(salary) OVER (PARTITION BY depname) FROM empsalary;</b>\n",
    "\n",
    "| depname   | empno | salary | avg                  |\n",
    "|-----------|-------|--------|----------------------|\n",
    "| develop   | 11    | 5200   | 5020.0000000000000000|\n",
    "| develop   | 7     | 4200   | 5020.0000000000000000|\n",
    "| develop   | 9     | 4500   | 5020.0000000000000000|\n",
    "| develop   | 8     | 6000   | 5020.0000000000000000|\n",
    "| develop   | 10    | 5200   | 5020.0000000000000000|\n",
    "| personnel | 5     | 3500   | 3700.0000000000000000|\n",
    "| personnel | 2     | 3900   | 3700.0000000000000000|\n",
    "| sales     | 3     | 4800   | 4866.6666666666666667|\n",
    "| sales     | 1     | 5000   | 4866.6666666666666667|\n",
    "| sales     | 4     | 4800   | 4866.6666666666666667|\n"
   ]
  },
  {
   "cell_type": "code",
   "execution_count": 33,
   "id": "00bfbefb-2f7d-455b-a13d-43a76f04ce3d",
   "metadata": {},
   "outputs": [
    {
     "name": "stdout",
     "output_type": "stream",
     "text": [
      "+---------+---+-------+------+--------+-----------------+------------------+-------------+\n",
      "|     Name|Age| Salary|Gender|    City|       New_Salary|          N_Name_1|CumSum Salary|\n",
      "+---------+---+-------+------+--------+-----------------+------------------+-------------+\n",
      "|Elizabeth| 23|6000000|     F|  Bogota|6600000.000000001|Elizabeth - Bogota|      6000000|\n",
      "|    Grace| 24|6000000|     F|Medellin|6600000.000000001|  Grace - Medellin|     12000000|\n",
      "|Charlotte| 25|7000000|     F|    Cali|7700000.000000001|  Charlotte - Cali|     19000000|\n",
      "+---------+---+-------+------+--------+-----------------+------------------+-------------+\n",
      "only showing top 3 rows\n",
      "\n",
      "+------+---+------+-------+-------------+\n",
      "|  Name|Age|Gender| Salary|Cumsum_Salary|\n",
      "+------+---+------+-------+-------------+\n",
      "|Carmen| 65|     F|1500000|      1500000|\n",
      "| Jairo| 65|     M|2000000|      3500000|\n",
      "|Daniel| 31|     M|3000000|      6500000|\n",
      "+------+---+------+-------+-------------+\n",
      "only showing top 3 rows\n",
      "\n"
     ]
    }
   ],
   "source": [
    "from pyspark.sql.window import Window\n",
    "from pyspark.sql.functions import sum\n",
    "\n",
    "# Here We're gonna get the cummulative Sum  of salaries as the age goes up\n",
    "window_spec_age = Window.orderBy([\"Age\"])\n",
    "cum_sum_salary_age = df_1.withColumn(\"CumSum Salary\",sum(\"Salary\").over(window_spec_age))\n",
    "cum_sum_salary_age.show(3)\n",
    "\n",
    "#Here We have the Comulative sum of salaries as the salaries increase\n",
    "window_spec_salary = Window.orderBy([\"Salary\"])\n",
    "cum_sum_salary_salary =  df_1.select([\"Name\",\"Age\",\"Gender\",\"Salary\"]).withColumn(\"Cumsum_Salary\", sum(\"Salary\").over(window_spec_salary))\n",
    "cum_sum_salary_salary.show(3)\n",
    "\n"
   ]
  },
  {
   "cell_type": "code",
   "execution_count": 43,
   "id": "32599dbd-5c16-492a-aca1-e030b9a21bfd",
   "metadata": {},
   "outputs": [
    {
     "name": "stdout",
     "output_type": "stream",
     "text": [
      "+--------+---+--------+------+------------+--------------------+--------------------+----+\n",
      "|    Name|Age|  Salary|Gender|        City|          New_Salary|            N_Name_1|Rank|\n",
      "+--------+---+--------+------+------------+--------------------+--------------------+----+\n",
      "|Santiago| 32|21000000|     M|Barranquilla|2.3100000000000004E7|Santiago - Barran...|   1|\n",
      "|Aljandro| 28|13500000|     M|Barranquilla|1.4850000000000002E7|Aljandro - Barran...|   2|\n",
      "|Mauricio| 35|13000000|     M|      Bogota|1.4300000000000002E7|   Mauricio - Bogota|   3|\n",
      "|  Andres| 33|10000000|     M|    Medellin|               1.1E7|   Andres - Medellin|   4|\n",
      "| Michael| 41| 9500000|     M|Barranquilla|             1.045E7|Michael - Barranq...|   5|\n",
      "|   Jacob| 49| 9500000|     M|    Medellin|             1.045E7|    Jacob - Medellin|   5|\n",
      "| Gabriel| 47| 9500000|     M|        Cali|             1.045E7|      Gabriel - Cali|   5|\n",
      "|   Henry| 52| 9000000|     M|    Medellin|           9900000.0|    Henry - Medellin|   8|\n",
      "|    Ryan| 51| 9000000|     M|        Cali|           9900000.0|         Ryan - Cali|   8|\n",
      "|Isabella| 39| 9000000|     F|        Cali|           9900000.0|     Isabella - Cali|   8|\n",
      "+--------+---+--------+------+------------+--------------------+--------------------+----+\n",
      "only showing top 10 rows\n",
      "\n",
      "+--------+---+--------+------+------------+--------------------+--------------------+----------+\n",
      "|    Name|Age|  Salary|Gender|        City|          New_Salary|            N_Name_1|Dense_Rank|\n",
      "+--------+---+--------+------+------------+--------------------+--------------------+----------+\n",
      "|Santiago| 32|21000000|     M|Barranquilla|2.3100000000000004E7|Santiago - Barran...|         1|\n",
      "|Aljandro| 28|13500000|     M|Barranquilla|1.4850000000000002E7|Aljandro - Barran...|         2|\n",
      "|Mauricio| 35|13000000|     M|      Bogota|1.4300000000000002E7|   Mauricio - Bogota|         3|\n",
      "|  Andres| 33|10000000|     M|    Medellin|               1.1E7|   Andres - Medellin|         4|\n",
      "| Michael| 41| 9500000|     M|Barranquilla|             1.045E7|Michael - Barranq...|         5|\n",
      "|   Jacob| 49| 9500000|     M|    Medellin|             1.045E7|    Jacob - Medellin|         5|\n",
      "| Gabriel| 47| 9500000|     M|        Cali|             1.045E7|      Gabriel - Cali|         5|\n",
      "|   Henry| 52| 9000000|     M|    Medellin|           9900000.0|    Henry - Medellin|         6|\n",
      "|    Ryan| 51| 9000000|     M|        Cali|           9900000.0|         Ryan - Cali|         6|\n",
      "|Isabella| 39| 9000000|     F|        Cali|           9900000.0|     Isabella - Cali|         6|\n",
      "+--------+---+--------+------+------------+--------------------+--------------------+----------+\n",
      "only showing top 10 rows\n",
      "\n",
      "+--------+---+--------+------+------------+--------------------+--------------------+----------+\n",
      "|    Name|Age|  Salary|Gender|        City|          New_Salary|            N_Name_1|Row_Number|\n",
      "+--------+---+--------+------+------------+--------------------+--------------------+----------+\n",
      "|Santiago| 32|21000000|     M|Barranquilla|2.3100000000000004E7|Santiago - Barran...|         1|\n",
      "|Aljandro| 28|13500000|     M|Barranquilla|1.4850000000000002E7|Aljandro - Barran...|         2|\n",
      "|Mauricio| 35|13000000|     M|      Bogota|1.4300000000000002E7|   Mauricio - Bogota|         3|\n",
      "|  Andres| 33|10000000|     M|    Medellin|               1.1E7|   Andres - Medellin|         4|\n",
      "| Michael| 41| 9500000|     M|Barranquilla|             1.045E7|Michael - Barranq...|         5|\n",
      "|   Jacob| 49| 9500000|     M|    Medellin|             1.045E7|    Jacob - Medellin|         6|\n",
      "| Gabriel| 47| 9500000|     M|        Cali|             1.045E7|      Gabriel - Cali|         7|\n",
      "|   Henry| 52| 9000000|     M|    Medellin|           9900000.0|    Henry - Medellin|         8|\n",
      "|    Ryan| 51| 9000000|     M|        Cali|           9900000.0|         Ryan - Cali|         9|\n",
      "|Isabella| 39| 9000000|     F|        Cali|           9900000.0|     Isabella - Cali|        10|\n",
      "+--------+---+--------+------+------------+--------------------+--------------------+----------+\n",
      "only showing top 10 rows\n",
      "\n"
     ]
    }
   ],
   "source": [
    "# Let's use the window function rank and dense rank\n",
    "from pyspark.sql.window import Window\n",
    "from pyspark.sql.functions import rank, dense_rank, desc, row_number\n",
    "# Here We are ranking so the person with the highest salary comes on top and the one with least at the bottom\n",
    "window_spec_4_rank = Window.orderBy(desc(\"Salary\"))\n",
    "rank_salary_1 = df_1.withColumn(\"Rank\", rank().over(window_spec_4_rank)) \n",
    "rank_salary_1.show(10)\n",
    "# Here We will use dense rank again sorting Z-A -- See the output \n",
    "window_spec_4_denserank = Window.orderBy(desc(\"Salary\"))\n",
    "rank_salary_2 = df_1.withColumn(\"Dense_Rank\", dense_rank().over(window_spec_4_denserank))\n",
    "rank_salary_2.show(10)\n",
    "# Here we will use the row_number function so that we don't get repeated ranks\n",
    "window_spec_row_number = Window.orderBy(desc(\"Salary\"))\n",
    "rank_salary_3 = df_1.withColumn(\"Row_Number\",row_number().over(window_spec_row_number))\n",
    "rank_salary_3.show(10)"
   ]
  },
  {
   "cell_type": "code",
   "execution_count": 69,
   "id": "318d2b11-81d6-47de-873e-745967a47f53",
   "metadata": {},
   "outputs": [
    {
     "name": "stdout",
     "output_type": "stream",
     "text": [
      "+---------+---+--------+------+------------+--------------------+--------------------+-------------------+------------------+-----------+\n",
      "|     Name|Age|  Salary|Gender|        City|          New_Salary|            N_Name_1|Mean_salary_by_city|sttdev_salary_city|Sum_by_city|\n",
      "+---------+---+--------+------+------------+--------------------+--------------------+-------------------+------------------+-----------+\n",
      "| Aljandro| 28|13500000|     M|Barranquilla|1.4850000000000002E7|Aljandro - Barran...|  7722222.222222222| 3949021.554996891|  139000000|\n",
      "| Santiago| 32|21000000|     M|Barranquilla|2.3100000000000004E7|Santiago - Barran...|  7722222.222222222| 3949021.554996891|  139000000|\n",
      "|    Jacob| 27| 7000000|     M|Barranquilla|   7700000.000000001|Jacob - Barranquilla|  7722222.222222222| 3949021.554996891|  139000000|\n",
      "|    Emily| 28| 6000000|     F|Barranquilla|   6600000.000000001|Emily - Barranquilla|  7722222.222222222| 3949021.554996891|  139000000|\n",
      "|    David| 35| 4000000|     M|Barranquilla|           4400000.0|David - Barranquilla|  7722222.222222222| 3949021.554996891|  139000000|\n",
      "|   Olivia| 26| 5500000|     F|Barranquilla|   6050000.000000001|Olivia - Barranqu...|  7722222.222222222| 3949021.554996891|  139000000|\n",
      "|     Emma| 33| 7000000|     F|Barranquilla|   7700000.000000001| Emma - Barranquilla|  7722222.222222222| 3949021.554996891|  139000000|\n",
      "|     John| 55| 5000000|     M|Barranquilla|           5500000.0| John - Barranquilla|  7722222.222222222| 3949021.554996891|  139000000|\n",
      "|      Ava| 30| 6500000|     F|Barranquilla|   7150000.000000001|  Ava - Barranquilla|  7722222.222222222| 3949021.554996891|  139000000|\n",
      "|  Michael| 41| 9500000|     M|Barranquilla|             1.045E7|Michael - Barranq...|  7722222.222222222| 3949021.554996891|  139000000|\n",
      "|   Harper| 29| 6500000|     F|Barranquilla|   7150000.000000001|Harper - Barranqu...|  7722222.222222222| 3949021.554996891|  139000000|\n",
      "|   Evelyn| 34| 5500000|     F|Barranquilla|   6050000.000000001|Evelyn - Barranqu...|  7722222.222222222| 3949021.554996891|  139000000|\n",
      "|     Lily| 35| 5500000|     F|Barranquilla|   6050000.000000001| Lily - Barranquilla|  7722222.222222222| 3949021.554996891|  139000000|\n",
      "|  Madison| 30| 6500000|     F|Barranquilla|   7150000.000000001|Madison - Barranq...|  7722222.222222222| 3949021.554996891|  139000000|\n",
      "|    Avery| 26| 5500000|     F|Barranquilla|   6050000.000000001|Avery - Barranquilla|  7722222.222222222| 3949021.554996891|  139000000|\n",
      "| Victoria| 32| 7000000|     F|Barranquilla|   7700000.000000001|Victoria - Barran...|  7722222.222222222| 3949021.554996891|  139000000|\n",
      "|  Jackson| 44| 8500000|     M|Barranquilla|           9350000.0|Jackson - Barranq...|  7722222.222222222| 3949021.554996891|  139000000|\n",
      "|Sebastian| 45| 9000000|     M|Barranquilla|           9900000.0|Sebastian - Barra...|  7722222.222222222| 3949021.554996891|  139000000|\n",
      "|     Sara| 30| 4700000|     F|      Bogota|           5170000.0|       Sara - Bogota|  6836363.636363637| 2850358.829085463|   75200000|\n",
      "| Mauricio| 35|13000000|     M|      Bogota|1.4300000000000002E7|   Mauricio - Bogota|  6836363.636363637| 2850358.829085463|   75200000|\n",
      "|    Jairo| 65| 2000000|     M|      Bogota|           2200000.0|      Jairo - Bogota|  6836363.636363637| 2850358.829085463|   75200000|\n",
      "|  Matthew| 50| 8500000|     M|      Bogota|           9350000.0|    Matthew - Bogota|  6836363.636363637| 2850358.829085463|   75200000|\n",
      "|   Andrew| 29| 4500000|     M|      Bogota|           4950000.0|     Andrew - Bogota|  6836363.636363637| 2850358.829085463|   75200000|\n",
      "|      Mia| 32| 5500000|     F|      Bogota|   6050000.000000001|        Mia - Bogota|  6836363.636363637| 2850358.829085463|   75200000|\n",
      "|  William| 48| 8500000|     M|      Bogota|           9350000.0|    William - Bogota|  6836363.636363637| 2850358.829085463|   75200000|\n",
      "|Elizabeth| 23| 6000000|     F|      Bogota|   6600000.000000001|  Elizabeth - Bogota|  6836363.636363637| 2850358.829085463|   75200000|\n",
      "|    Chloe| 33| 7000000|     F|      Bogota|   7700000.000000001|      Chloe - Bogota|  6836363.636363637| 2850358.829085463|   75200000|\n",
      "|    Lucas| 40| 7500000|     M|      Bogota|   8250000.000000001|      Lucas - Bogota|  6836363.636363637| 2850358.829085463|   75200000|\n",
      "|   Carter| 39| 8000000|     M|      Bogota|           8800000.0|     Carter - Bogota|  6836363.636363637| 2850358.829085463|   75200000|\n",
      "|   Carmen| 65| 1500000|     F|        Cali|  1650000.0000000002|       Carmen - Cali|          6850000.0|2427275.5646334565|   68500000|\n",
      "+---------+---+--------+------+------------+--------------------+--------------------+-------------------+------------------+-----------+\n",
      "only showing top 30 rows\n",
      "\n",
      "+---------+---+--------+------+------------+--------------------+--------------------+-------------------+------------------+-----------+------------------+\n",
      "|     Name|Age|  Salary|Gender|        City|          New_Salary|            N_Name_1|Mean_salary_by_city|sttdev_salary_city|Sum_by_city|      Contribution|\n",
      "+---------+---+--------+------+------------+--------------------+--------------------+-------------------+------------------+-----------+------------------+\n",
      "| Santiago| 32|21000000|     M|Barranquilla|2.3100000000000004E7|Santiago - Barran...|  7722222.222222222| 3949021.554996891|  139000000|15.107913669064748|\n",
      "| Aljandro| 28|13500000|     M|Barranquilla|1.4850000000000002E7|Aljandro - Barran...|  7722222.222222222| 3949021.554996891|  139000000| 9.712230215827338|\n",
      "|  Michael| 41| 9500000|     M|Barranquilla|             1.045E7|Michael - Barranq...|  7722222.222222222| 3949021.554996891|  139000000|  6.83453237410072|\n",
      "|Sebastian| 45| 9000000|     M|Barranquilla|           9900000.0|Sebastian - Barra...|  7722222.222222222| 3949021.554996891|  139000000| 6.474820143884892|\n",
      "|  Jackson| 44| 8500000|     M|Barranquilla|           9350000.0|Jackson - Barranq...|  7722222.222222222| 3949021.554996891|  139000000| 6.115107913669065|\n",
      "|    Jacob| 27| 7000000|     M|Barranquilla|   7700000.000000001|Jacob - Barranquilla|  7722222.222222222| 3949021.554996891|  139000000|5.0359712230215825|\n",
      "|     Emma| 33| 7000000|     F|Barranquilla|   7700000.000000001| Emma - Barranquilla|  7722222.222222222| 3949021.554996891|  139000000|5.0359712230215825|\n",
      "| Victoria| 32| 7000000|     F|Barranquilla|   7700000.000000001|Victoria - Barran...|  7722222.222222222| 3949021.554996891|  139000000|5.0359712230215825|\n",
      "|      Ava| 30| 6500000|     F|Barranquilla|   7150000.000000001|  Ava - Barranquilla|  7722222.222222222| 3949021.554996891|  139000000| 4.676258992805756|\n",
      "|   Harper| 29| 6500000|     F|Barranquilla|   7150000.000000001|Harper - Barranqu...|  7722222.222222222| 3949021.554996891|  139000000| 4.676258992805756|\n",
      "|  Madison| 30| 6500000|     F|Barranquilla|   7150000.000000001|Madison - Barranq...|  7722222.222222222| 3949021.554996891|  139000000| 4.676258992805756|\n",
      "|    Emily| 28| 6000000|     F|Barranquilla|   6600000.000000001|Emily - Barranquilla|  7722222.222222222| 3949021.554996891|  139000000| 4.316546762589928|\n",
      "|   Olivia| 26| 5500000|     F|Barranquilla|   6050000.000000001|Olivia - Barranqu...|  7722222.222222222| 3949021.554996891|  139000000|3.9568345323741005|\n",
      "|   Evelyn| 34| 5500000|     F|Barranquilla|   6050000.000000001|Evelyn - Barranqu...|  7722222.222222222| 3949021.554996891|  139000000|3.9568345323741005|\n",
      "|     Lily| 35| 5500000|     F|Barranquilla|   6050000.000000001| Lily - Barranquilla|  7722222.222222222| 3949021.554996891|  139000000|3.9568345323741005|\n",
      "|    Avery| 26| 5500000|     F|Barranquilla|   6050000.000000001|Avery - Barranquilla|  7722222.222222222| 3949021.554996891|  139000000|3.9568345323741005|\n",
      "|     John| 55| 5000000|     M|Barranquilla|           5500000.0| John - Barranquilla|  7722222.222222222| 3949021.554996891|  139000000| 3.597122302158273|\n",
      "|    David| 35| 4000000|     M|Barranquilla|           4400000.0|David - Barranquilla|  7722222.222222222| 3949021.554996891|  139000000| 2.877697841726619|\n",
      "| Mauricio| 35|13000000|     M|      Bogota|1.4300000000000002E7|   Mauricio - Bogota|  6836363.636363637| 2850358.829085463|   75200000|17.287234042553195|\n",
      "|  Matthew| 50| 8500000|     M|      Bogota|           9350000.0|    Matthew - Bogota|  6836363.636363637| 2850358.829085463|   75200000|11.303191489361703|\n",
      "|  William| 48| 8500000|     M|      Bogota|           9350000.0|    William - Bogota|  6836363.636363637| 2850358.829085463|   75200000|11.303191489361703|\n",
      "|   Carter| 39| 8000000|     M|      Bogota|           8800000.0|     Carter - Bogota|  6836363.636363637| 2850358.829085463|   75200000|10.638297872340425|\n",
      "|    Lucas| 40| 7500000|     M|      Bogota|   8250000.000000001|      Lucas - Bogota|  6836363.636363637| 2850358.829085463|   75200000|  9.97340425531915|\n",
      "|    Chloe| 33| 7000000|     F|      Bogota|   7700000.000000001|      Chloe - Bogota|  6836363.636363637| 2850358.829085463|   75200000| 9.308510638297872|\n",
      "|Elizabeth| 23| 6000000|     F|      Bogota|   6600000.000000001|  Elizabeth - Bogota|  6836363.636363637| 2850358.829085463|   75200000|7.9787234042553195|\n",
      "|      Mia| 32| 5500000|     F|      Bogota|   6050000.000000001|        Mia - Bogota|  6836363.636363637| 2850358.829085463|   75200000|7.3138297872340425|\n",
      "|     Sara| 30| 4700000|     F|      Bogota|           5170000.0|       Sara - Bogota|  6836363.636363637| 2850358.829085463|   75200000|              6.25|\n",
      "|   Andrew| 29| 4500000|     M|      Bogota|           4950000.0|     Andrew - Bogota|  6836363.636363637| 2850358.829085463|   75200000|  5.98404255319149|\n",
      "|    Jairo| 65| 2000000|     M|      Bogota|           2200000.0|      Jairo - Bogota|  6836363.636363637| 2850358.829085463|   75200000|2.6595744680851063|\n",
      "|  Gabriel| 47| 9500000|     M|        Cali|             1.045E7|      Gabriel - Cali|          6850000.0|2427275.5646334565|   68500000| 13.86861313868613|\n",
      "+---------+---+--------+------+------------+--------------------+--------------------+-------------------+------------------+-----------+------------------+\n",
      "only showing top 30 rows\n",
      "\n"
     ]
    }
   ],
   "source": [
    "# Now let's Review Aggregation using window Functions using partitions\n",
    "from pyspark.sql.window import Window\n",
    "from pyspark.sql.functions import sum, mean, median, stddev\n",
    "\n",
    "window_part_1 = Window.partitionBy(\"City\")\n",
    "window_df_1 = df_1.withColumn(\n",
    "    \"Mean_salary_by_city\",\n",
    "    mean(\"Salary\").over(window_part_1)\n",
    "    ).withColumn(\n",
    "        \"sttdev_salary_city\",\n",
    "        stddev(\"Salary\").over(window_part_1)\n",
    "    ).withColumn(\n",
    "        \"Sum_by_city\",\n",
    "        sum(col(\"Salary\")).over(window_part_1)\n",
    "    )\n",
    "window_df_1.show(30)\n",
    "# Great! Now let's see what's the contribution of each salary to the city total\n",
    "_ = window_df_1.withColumn(\"Contribution\", (col(\"Salary\") /col(\"Sum_by_city\")) * 100 )\n",
    "_.orderBy(\"City\",desc(\"Contribution\")).show(30)"
   ]
  },
  {
   "cell_type": "code",
   "execution_count": 5,
   "id": "69afe67f-3822-4b45-b0ed-1c2484ad8e73",
   "metadata": {
    "tags": []
   },
   "outputs": [
    {
     "data": {
      "text/plain": [
       "18720000"
      ]
     },
     "execution_count": 5,
     "metadata": {},
     "output_type": "execute_result"
    }
   ],
   "source": [
    "(((30 * 8 ) * 5 ) *4) * 3900 "
   ]
  }
 ],
 "metadata": {
  "kernelspec": {
   "display_name": "Python 3 (ipykernel)",
   "language": "python",
   "name": "python3"
  },
  "language_info": {
   "codemirror_mode": {
    "name": "ipython",
    "version": 3
   },
   "file_extension": ".py",
   "mimetype": "text/x-python",
   "name": "python",
   "nbconvert_exporter": "python",
   "pygments_lexer": "ipython3",
   "version": "3.7.3"
  }
 },
 "nbformat": 4,
 "nbformat_minor": 5
}

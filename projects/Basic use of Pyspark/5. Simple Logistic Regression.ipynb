{
 "cells": [
  {
   "cell_type": "code",
   "execution_count": 1,
   "id": "f14793a6-f98b-44a4-9035-83ef5a5ccaf4",
   "metadata": {
    "tags": []
   },
   "outputs": [
    {
     "name": "stderr",
     "output_type": "stream",
     "text": [
      "Setting default log level to \"WARN\".\n",
      "To adjust logging level use sc.setLogLevel(newLevel). For SparkR, use setLogLevel(newLevel).\n",
      "24/03/01 21:29:50 WARN NativeCodeLoader: Unable to load native-hadoop library for your platform... using builtin-java classes where applicable\n",
      "/usr/local/lib/python3.7/dist-packages/pyspark/context.py:317: FutureWarning: Python 3.7 support is deprecated in Spark 3.4.\n",
      "  warnings.warn(\"Python 3.7 support is deprecated in Spark 3.4.\", FutureWarning)\n"
     ]
    }
   ],
   "source": [
    "from pyspark import SparkContext\n",
    "from pyspark.sql import SparkSession\n",
    "sc = SparkContext(\"local\",\"blr\")\n",
    "spark = SparkSession.builder.appName(\"blr\").getOrCreate()"
   ]
  },
  {
   "cell_type": "code",
   "execution_count": 2,
   "id": "22461476-4185-4961-b688-9be5f957cbad",
   "metadata": {
    "tags": []
   },
   "outputs": [
    {
     "name": "stderr",
     "output_type": "stream",
     "text": [
      "                                                                                \r"
     ]
    },
    {
     "name": "stdout",
     "output_type": "stream",
     "text": [
      "+----+-----+-----+------+\n",
      "|SqFt|Rooms|Baths| Price|\n",
      "+----+-----+-----+------+\n",
      "|1500|    3|    2|320000|\n",
      "|2800|    4|    3|550000|\n",
      "|2200|    3|    2|450000|\n",
      "+----+-----+-----+------+\n",
      "only showing top 3 rows\n",
      "\n"
     ]
    }
   ],
   "source": [
    "from pyspark.sql.types import StructField, StructType, StringType, IntegerType\n",
    "schema = StructType(\n",
    "    [\n",
    "        StructField(\"SqFt\", IntegerType(), True),\n",
    "        StructField(\"Rooms\", IntegerType(), True),\n",
    "        StructField(\"Baths\", IntegerType(), True),\n",
    "        StructField(\"Price\", IntegerType(), True),\n",
    "    ]\n",
    ")\n",
    "data = [\n",
    "    (1500,3,2,320000), (2800,4,3,550000), (2200,3,2,450000), (3500,5,4,720000), \n",
    "    (1800,3,2,380000), (4000,5,3,850000), (2500,4,3,520000), (3200,4,3,680000), \n",
    "]\n",
    "df = spark.createDataFrame(data, schema)\n",
    "df.show(3)"
   ]
  },
  {
   "cell_type": "code",
   "execution_count": 3,
   "id": "4e58bb91-30c3-4817-92c0-7d8d7a54a9bf",
   "metadata": {
    "tags": []
   },
   "outputs": [],
   "source": [
    "from pyspark.ml.feature import VectorAssembler\n",
    "from pyspark.ml.classification import LogisticRegression\n",
    "from pyspark.ml import Pipeline"
   ]
  },
  {
   "cell_type": "code",
   "execution_count": 4,
   "id": "715fa35a-b626-4578-828d-2f5e1be4bdc4",
   "metadata": {
    "tags": []
   },
   "outputs": [
    {
     "name": "stderr",
     "output_type": "stream",
     "text": [
      "[Stage 1:>                                                          (0 + 1) / 1]\r"
     ]
    },
    {
     "name": "stdout",
     "output_type": "stream",
     "text": [
      "+----+-----+-----+------+----------------+\n",
      "|SqFt|Rooms|Baths| Price|        features|\n",
      "+----+-----+-----+------+----------------+\n",
      "|1500|    3|    2|320000|[1500.0,3.0,2.0]|\n",
      "|2800|    4|    3|550000|[2800.0,4.0,3.0]|\n",
      "|2200|    3|    2|450000|[2200.0,3.0,2.0]|\n",
      "+----+-----+-----+------+----------------+\n",
      "only showing top 3 rows\n",
      "\n"
     ]
    },
    {
     "name": "stderr",
     "output_type": "stream",
     "text": [
      "                                                                                \r"
     ]
    }
   ],
   "source": [
    "feature_columns = [\"SqFt\",\"Rooms\",\"Baths\"]\n",
    "assembler = VectorAssembler(inputCols = feature_columns, outputCol = \"features\")\n",
    "df_assembled = assembler.transform(df)\n",
    "df_assembled.show(3)"
   ]
  },
  {
   "cell_type": "code",
   "execution_count": null,
   "id": "31196557-6ce0-4120-9d71-376401ff87f7",
   "metadata": {
    "tags": []
   },
   "outputs": [],
   "source": [
    "train_df, test_df = df_assembled.randomSplit([0.7,0.3])\n",
    "lr = LogisticRegression(featuresCol=\"features\", labelCol= \"Price\")\n",
    "model = lr.fit(train_df)"
   ]
  },
  {
   "cell_type": "code",
   "execution_count": null,
   "id": "a4c4af03-28a8-42c7-9492-5d32375baba2",
   "metadata": {},
   "outputs": [],
   "source": []
  }
 ],
 "metadata": {
  "kernelspec": {
   "display_name": "Python 3 (ipykernel)",
   "language": "python",
   "name": "python3"
  },
  "language_info": {
   "codemirror_mode": {
    "name": "ipython",
    "version": 3
   },
   "file_extension": ".py",
   "mimetype": "text/x-python",
   "name": "python",
   "nbconvert_exporter": "python",
   "pygments_lexer": "ipython3",
   "version": "3.7.3"
  }
 },
 "nbformat": 4,
 "nbformat_minor": 5
}
